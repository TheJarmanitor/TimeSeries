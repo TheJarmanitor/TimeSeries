{
 "cells": [
  {
   "cell_type": "markdown",
   "metadata": {
    "id": "IkOhjsdbopBM"
   },
   "source": [
    "# Análisis de las acciones de Ecopetrol\n",
    "\n",
    "- Descripción de los datos\n",
    "- Posibles modelos\n",
    ".\n",
    ".\n",
    "."
   ]
  },
  {
   "cell_type": "markdown",
   "metadata": {
    "id": "M2FN2NGloh0D"
   },
   "source": [
    "## Descripción de los datos\n",
    "Los datos pertenecen al valor de las acciones mesuales de Ecopetrol desde el 2 de diciembre del 2007 hasta el 15 de noviembre del 2020"
   ]
  },
  {
   "cell_type": "code",
   "execution_count": 1,
   "metadata": {
    "id": "FJ14fJvfoD-X"
   },
   "outputs": [],
   "source": [
    "import pandas as pd\n",
    "import numpy as np\n",
    "import zipfile\n",
    "import datetime\n",
    "import matplotlib.pyplot as plt"
   ]
  },
  {
   "cell_type": "code",
   "execution_count": 2,
   "metadata": {},
   "outputs": [],
   "source": [
    "############Correr solo en colab\n",
    "\n",
    "#from google.colab import drive\n",
    "#drive.mount('/gdrive')\n",
    "#%cd /gdrive"
   ]
  },
  {
   "cell_type": "code",
   "execution_count": 3,
   "metadata": {
    "colab": {
     "base_uri": "https://localhost:8080/",
     "height": 391
    },
    "id": "qjxWPhMLo1-A",
    "outputId": "adcfa90c-0788-460e-d1ea-079c91c8a70f"
   },
   "outputs": [],
   "source": [
    "#df = pd.read_csv('/gdrive/MyDrive/Series de tiempo/Trabajo final/Datos históricos ECO.csv')\n",
    "df= pd.read_csv('Datos históricos ECO.csv')"
   ]
  },
  {
   "cell_type": "code",
   "execution_count": 4,
   "metadata": {
    "colab": {
     "base_uri": "https://localhost:8080/",
     "height": 225
    },
    "id": "0LwnWQUOpOgV",
    "outputId": "80e39156-2ce0-447a-dd0a-65ca0674fead"
   },
   "outputs": [
    {
     "name": "stdout",
     "output_type": "stream",
     "text": [
      "<class 'pandas.core.frame.DataFrame'>\n"
     ]
    },
    {
     "data": {
      "text/html": [
       "<div>\n",
       "<style scoped>\n",
       "    .dataframe tbody tr th:only-of-type {\n",
       "        vertical-align: middle;\n",
       "    }\n",
       "\n",
       "    .dataframe tbody tr th {\n",
       "        vertical-align: top;\n",
       "    }\n",
       "\n",
       "    .dataframe thead th {\n",
       "        text-align: right;\n",
       "    }\n",
       "</style>\n",
       "<table border=\"1\" class=\"dataframe\">\n",
       "  <thead>\n",
       "    <tr style=\"text-align: right;\">\n",
       "      <th></th>\n",
       "      <th>Fecha</th>\n",
       "      <th>Último</th>\n",
       "      <th>Apertura</th>\n",
       "      <th>Máximo</th>\n",
       "      <th>Mínimo</th>\n",
       "      <th>Vol.</th>\n",
       "      <th>% var.</th>\n",
       "    </tr>\n",
       "  </thead>\n",
       "  <tbody>\n",
       "    <tr>\n",
       "      <th>0</th>\n",
       "      <td>15.11.2020</td>\n",
       "      <td>2.145,0</td>\n",
       "      <td>2.020,0</td>\n",
       "      <td>2.159,0</td>\n",
       "      <td>2.020,0</td>\n",
       "      <td>8,01M</td>\n",
       "      <td>7,25%</td>\n",
       "    </tr>\n",
       "    <tr>\n",
       "      <th>1</th>\n",
       "      <td>08.11.2020</td>\n",
       "      <td>2.000,0</td>\n",
       "      <td>1.870,0</td>\n",
       "      <td>2.025,0</td>\n",
       "      <td>1.870,0</td>\n",
       "      <td>55,42M</td>\n",
       "      <td>9,11%</td>\n",
       "    </tr>\n",
       "    <tr>\n",
       "      <th>2</th>\n",
       "      <td>01.11.2020</td>\n",
       "      <td>1.833,0</td>\n",
       "      <td>1.795,0</td>\n",
       "      <td>1.893,0</td>\n",
       "      <td>1.795,0</td>\n",
       "      <td>27,81M</td>\n",
       "      <td>2,35%</td>\n",
       "    </tr>\n",
       "    <tr>\n",
       "      <th>3</th>\n",
       "      <td>25.10.2020</td>\n",
       "      <td>1.791,0</td>\n",
       "      <td>1.851,0</td>\n",
       "      <td>1.851,0</td>\n",
       "      <td>1.615,0</td>\n",
       "      <td>58,85M</td>\n",
       "      <td>-3,71%</td>\n",
       "    </tr>\n",
       "    <tr>\n",
       "      <th>4</th>\n",
       "      <td>18.10.2020</td>\n",
       "      <td>1.860,0</td>\n",
       "      <td>1.871,0</td>\n",
       "      <td>1.916,0</td>\n",
       "      <td>1.837,0</td>\n",
       "      <td>34,59M</td>\n",
       "      <td>-1,06%</td>\n",
       "    </tr>\n",
       "  </tbody>\n",
       "</table>\n",
       "</div>"
      ],
      "text/plain": [
       "        Fecha   Último Apertura   Máximo   Mínimo    Vol.  % var.\n",
       "0  15.11.2020  2.145,0  2.020,0  2.159,0  2.020,0   8,01M   7,25%\n",
       "1  08.11.2020  2.000,0  1.870,0  2.025,0  1.870,0  55,42M   9,11%\n",
       "2  01.11.2020  1.833,0  1.795,0  1.893,0  1.795,0  27,81M   2,35%\n",
       "3  25.10.2020  1.791,0  1.851,0  1.851,0  1.615,0  58,85M  -3,71%\n",
       "4  18.10.2020  1.860,0  1.871,0  1.916,0  1.837,0  34,59M  -1,06%"
      ]
     },
     "execution_count": 4,
     "metadata": {},
     "output_type": "execute_result"
    }
   ],
   "source": [
    "print(type(df))\n",
    "df.head()"
   ]
  },
  {
   "cell_type": "code",
   "execution_count": 5,
   "metadata": {
    "colab": {
     "base_uri": "https://localhost:8080/",
     "height": 206
    },
    "id": "0ymwo05xpYSy",
    "outputId": "432207dd-7bf7-4732-8bcf-d0a628d1e443"
   },
   "outputs": [
    {
     "data": {
      "text/html": [
       "<div>\n",
       "<style scoped>\n",
       "    .dataframe tbody tr th:only-of-type {\n",
       "        vertical-align: middle;\n",
       "    }\n",
       "\n",
       "    .dataframe tbody tr th {\n",
       "        vertical-align: top;\n",
       "    }\n",
       "\n",
       "    .dataframe thead th {\n",
       "        text-align: right;\n",
       "    }\n",
       "</style>\n",
       "<table border=\"1\" class=\"dataframe\">\n",
       "  <thead>\n",
       "    <tr style=\"text-align: right;\">\n",
       "      <th></th>\n",
       "      <th>Fecha</th>\n",
       "      <th>Último</th>\n",
       "      <th>Apertura</th>\n",
       "      <th>Máximo</th>\n",
       "      <th>Mínimo</th>\n",
       "      <th>Vol.</th>\n",
       "      <th>% var.</th>\n",
       "    </tr>\n",
       "  </thead>\n",
       "  <tbody>\n",
       "    <tr>\n",
       "      <th>676</th>\n",
       "      <td>2007-02-12</td>\n",
       "      <td>1.990,0</td>\n",
       "      <td>1.960,0</td>\n",
       "      <td>2.075,0</td>\n",
       "      <td>1.855,0</td>\n",
       "      <td>150,44M</td>\n",
       "      <td>-1,00%</td>\n",
       "    </tr>\n",
       "    <tr>\n",
       "      <th>675</th>\n",
       "      <td>2007-09-12</td>\n",
       "      <td>2.015,0</td>\n",
       "      <td>1.985,0</td>\n",
       "      <td>2.080,0</td>\n",
       "      <td>1.970,0</td>\n",
       "      <td>86,75M</td>\n",
       "      <td>1,26%</td>\n",
       "    </tr>\n",
       "    <tr>\n",
       "      <th>674</th>\n",
       "      <td>2007-12-16</td>\n",
       "      <td>2.015,0</td>\n",
       "      <td>2.020,0</td>\n",
       "      <td>2.040,0</td>\n",
       "      <td>1.920,0</td>\n",
       "      <td>99,91M</td>\n",
       "      <td>0,00%</td>\n",
       "    </tr>\n",
       "    <tr>\n",
       "      <th>673</th>\n",
       "      <td>2007-12-23</td>\n",
       "      <td>2.020,0</td>\n",
       "      <td>2.015,0</td>\n",
       "      <td>2.045,0</td>\n",
       "      <td>2.000,0</td>\n",
       "      <td>20,62M</td>\n",
       "      <td>0,25%</td>\n",
       "    </tr>\n",
       "    <tr>\n",
       "      <th>672</th>\n",
       "      <td>2007-12-30</td>\n",
       "      <td>2.025,0</td>\n",
       "      <td>2.015,0</td>\n",
       "      <td>2.035,0</td>\n",
       "      <td>2.005,0</td>\n",
       "      <td>6,13M</td>\n",
       "      <td>0,25%</td>\n",
       "    </tr>\n",
       "  </tbody>\n",
       "</table>\n",
       "</div>"
      ],
      "text/plain": [
       "         Fecha   Último Apertura   Máximo   Mínimo     Vol.  % var.\n",
       "676 2007-02-12  1.990,0  1.960,0  2.075,0  1.855,0  150,44M  -1,00%\n",
       "675 2007-09-12  2.015,0  1.985,0  2.080,0  1.970,0   86,75M   1,26%\n",
       "674 2007-12-16  2.015,0  2.020,0  2.040,0  1.920,0   99,91M   0,00%\n",
       "673 2007-12-23  2.020,0  2.015,0  2.045,0  2.000,0   20,62M   0,25%\n",
       "672 2007-12-30  2.025,0  2.015,0  2.035,0  2.005,0    6,13M   0,25%"
      ]
     },
     "execution_count": 5,
     "metadata": {},
     "output_type": "execute_result"
    }
   ],
   "source": [
    "df['Fecha'] = pd.to_datetime(df['Fecha'])\n",
    "df = df.sort_values(by='Fecha', ascending=True)\n",
    "df.head()"
   ]
  },
  {
   "cell_type": "code",
   "execution_count": 6,
   "metadata": {
    "colab": {
     "base_uri": "https://localhost:8080/",
     "height": 206
    },
    "id": "3kzbCyh3Rjdr",
    "outputId": "199674c9-c1bd-4acd-bf75-eafb31af613a"
   },
   "outputs": [
    {
     "data": {
      "text/html": [
       "<div>\n",
       "<style scoped>\n",
       "    .dataframe tbody tr th:only-of-type {\n",
       "        vertical-align: middle;\n",
       "    }\n",
       "\n",
       "    .dataframe tbody tr th {\n",
       "        vertical-align: top;\n",
       "    }\n",
       "\n",
       "    .dataframe thead th {\n",
       "        text-align: right;\n",
       "    }\n",
       "</style>\n",
       "<table border=\"1\" class=\"dataframe\">\n",
       "  <thead>\n",
       "    <tr style=\"text-align: right;\">\n",
       "      <th></th>\n",
       "      <th>Fecha</th>\n",
       "      <th>Último</th>\n",
       "      <th>Apertura</th>\n",
       "      <th>Máximo</th>\n",
       "      <th>Mínimo</th>\n",
       "      <th>Vol.</th>\n",
       "      <th>% var.</th>\n",
       "    </tr>\n",
       "  </thead>\n",
       "  <tbody>\n",
       "    <tr>\n",
       "      <th>676</th>\n",
       "      <td>2007-02-12</td>\n",
       "      <td>1.990,0</td>\n",
       "      <td>2020.0</td>\n",
       "      <td>2.075,0</td>\n",
       "      <td>1.855,0</td>\n",
       "      <td>150,44M</td>\n",
       "      <td>-1,00%</td>\n",
       "    </tr>\n",
       "    <tr>\n",
       "      <th>675</th>\n",
       "      <td>2007-09-12</td>\n",
       "      <td>2.015,0</td>\n",
       "      <td>1870.0</td>\n",
       "      <td>2.080,0</td>\n",
       "      <td>1.970,0</td>\n",
       "      <td>86,75M</td>\n",
       "      <td>1,26%</td>\n",
       "    </tr>\n",
       "    <tr>\n",
       "      <th>674</th>\n",
       "      <td>2007-12-16</td>\n",
       "      <td>2.015,0</td>\n",
       "      <td>1795.0</td>\n",
       "      <td>2.040,0</td>\n",
       "      <td>1.920,0</td>\n",
       "      <td>99,91M</td>\n",
       "      <td>0,00%</td>\n",
       "    </tr>\n",
       "    <tr>\n",
       "      <th>673</th>\n",
       "      <td>2007-12-23</td>\n",
       "      <td>2.020,0</td>\n",
       "      <td>1851.0</td>\n",
       "      <td>2.045,0</td>\n",
       "      <td>2.000,0</td>\n",
       "      <td>20,62M</td>\n",
       "      <td>0,25%</td>\n",
       "    </tr>\n",
       "    <tr>\n",
       "      <th>672</th>\n",
       "      <td>2007-12-30</td>\n",
       "      <td>2.025,0</td>\n",
       "      <td>1871.0</td>\n",
       "      <td>2.035,0</td>\n",
       "      <td>2.005,0</td>\n",
       "      <td>6,13M</td>\n",
       "      <td>0,25%</td>\n",
       "    </tr>\n",
       "  </tbody>\n",
       "</table>\n",
       "</div>"
      ],
      "text/plain": [
       "         Fecha   Último Apertura   Máximo   Mínimo     Vol.  % var.\n",
       "676 2007-02-12  1.990,0   2020.0  2.075,0  1.855,0  150,44M  -1,00%\n",
       "675 2007-09-12  2.015,0   1870.0  2.080,0  1.970,0   86,75M   1,26%\n",
       "674 2007-12-16  2.015,0   1795.0  2.040,0  1.920,0   99,91M   0,00%\n",
       "673 2007-12-23  2.020,0   1851.0  2.045,0  2.000,0   20,62M   0,25%\n",
       "672 2007-12-30  2.025,0   1871.0  2.035,0  2.005,0    6,13M   0,25%"
      ]
     },
     "execution_count": 6,
     "metadata": {},
     "output_type": "execute_result"
    }
   ],
   "source": [
    "df['Apertura']=[df['Apertura'][i].replace(\".\",\"\").replace(\",\",\".\") for i in range(0,len(df['Apertura']))]\n",
    "df.head()"
   ]
  },
  {
   "cell_type": "code",
   "execution_count": 7,
   "metadata": {
    "colab": {
     "base_uri": "https://localhost:8080/"
    },
    "id": "yyW-L-LTQxav",
    "outputId": "164bb51b-7f5c-4761-ba7f-58c0efe3fe78"
   },
   "outputs": [
    {
     "data": {
      "text/plain": [
       "Fecha       datetime64[ns]\n",
       "Último              object\n",
       "Apertura           float64\n",
       "Máximo              object\n",
       "Mínimo              object\n",
       "Vol.                object\n",
       "% var.              object\n",
       "dtype: object"
      ]
     },
     "execution_count": 7,
     "metadata": {},
     "output_type": "execute_result"
    }
   ],
   "source": [
    "df['Apertura']=df['Apertura'].astype(float)\n",
    "df.dtypes"
   ]
  },
  {
   "cell_type": "code",
   "execution_count": 8,
   "metadata": {
    "colab": {
     "base_uri": "https://localhost:8080/",
     "height": 465
    },
    "id": "VRaNTdP51lH4",
    "outputId": "c7a299fc-9b3d-4b69-e7b4-e824a4ca6f9c"
   },
   "outputs": [
    {
     "name": "stdout",
     "output_type": "stream",
     "text": [
      "count     677.000000\n",
      "mean     2887.146381\n",
      "std      1185.054343\n",
      "min       970.000000\n",
      "25%      1985.000000\n",
      "50%      2740.000000\n",
      "75%      3750.000000\n",
      "max      5790.000000\n",
      "Name: Apertura, dtype: float64\n"
     ]
    },
    {
     "data": {
      "image/png": "[encoded data removed]",
      "text/plain": [
       "<Figure size 432x288 with 1 Axes>"
      ]
     },
     "metadata": {
      "needs_background": "light"
     },
     "output_type": "display_data"
    }
   ],
   "source": [
    "df = df.set_index('Fecha')\n",
    "df.index = pd.DatetimeIndex(df.index)\n",
    "\n",
    "plt.plot(df[\"Apertura\"])\n",
    "plt.title('Apertura de acciones de Ecopetrol')\n",
    "print(df[\"Apertura\"].describe())"
   ]
  },
  {
   "cell_type": "markdown",
   "metadata": {
    "id": "5c21XZiOZ9Fd"
   },
   "source": [
    "Por un lado podemos ver que existe tendencia y varianza no constante en los datos, sin embargo antes de correguir estos aspectos veremos si se necesita corregir la varianza marginal no constante."
   ]
  },
  {
   "cell_type": "markdown",
   "metadata": {
    "id": "Q5q9WJDla5Ry"
   },
   "source": [
    "#### Tranformación Box-Cox"
   ]
  },
  {
   "cell_type": "code",
   "execution_count": 11,
   "metadata": {
    "colab": {
     "base_uri": "https://localhost:8080/"
    },
    "id": "nIwEzf1BbKB1",
    "outputId": "e94f5ab0-42f1-4b1d-e7b5-537b1d2b404a"
   },
   "outputs": [],
   "source": [
    "from scipy.stats import boxcox\n",
    "#Apertura_transf, lamda = sp.stats.boxcox(Apertura)\n",
    "#lamda\n",
    "#Apertura_transf=pd.DataFrame(Apertura_transf)\n",
    "#Apertura_transf=Apertura_transf.set_index(Apertura.index)\n",
    "df[\"Apertura_transf\"], Lamb=boxcox(df[\"Apertura\"])"
   ]
  },
  {
   "cell_type": "code",
   "execution_count": 12,
   "metadata": {},
   "outputs": [
    {
     "name": "stdout",
     "output_type": "stream",
     "text": [
      "Fecha\n",
      "2007-02-12    25.021686\n",
      "2007-09-12    24.432238\n",
      "2007-12-16    24.124455\n",
      "2007-12-23    24.355133\n",
      "2007-12-30    24.436280\n",
      "                ...    \n",
      "2020-11-10    25.002563\n",
      "2020-11-15    25.002563\n",
      "2020-12-01    25.021686\n",
      "2020-12-04    24.887088\n",
      "2020-12-07    24.789880\n",
      "Name: Apertura_transf, Length: 677, dtype: float64\n",
      "0.2685190181761861\n"
     ]
    }
   ],
   "source": [
    "print(df[\"Apertura_transf\"])\n",
    "print(Lamb)"
   ]
  },
  {
   "cell_type": "code",
   "execution_count": 13,
   "metadata": {
    "colab": {
     "base_uri": "https://localhost:8080/",
     "height": 299
    },
    "id": "h4r5LHAqiTE-",
    "outputId": "f9876ca0-bc97-43e2-c235-4e44f13125c2"
   },
   "outputs": [
    {
     "data": {
      "text/plain": [
       "Text(0.5, 1.0, 'Apertura de acciones de Ecopetrol con transformacion Box Cox')"
      ]
     },
     "execution_count": 13,
     "metadata": {},
     "output_type": "execute_result"
    },
    {
     "data": {
      "image/png": "[encoded data removed]",
      "text/plain": [
       "<Figure size 432x288 with 1 Axes>"
      ]
     },
     "metadata": {
      "needs_background": "light"
     },
     "output_type": "display_data"
    }
   ],
   "source": [
    "plt.plot(df[\"Apertura_transf\"])\n",
    "plt.title('Apertura de acciones de Ecopetrol con transformacion Box Cox')"
   ]
  },
  {
   "cell_type": "code",
   "execution_count": 14,
   "metadata": {
    "colab": {
     "base_uri": "https://localhost:8080/",
     "height": 313
    },
    "id": "J-zUP4IXd2kG",
    "outputId": "47b07265-d132-41ac-89f2-557be8e61e7a"
   },
   "outputs": [
    {
     "data": {
      "text/plain": [
       "Text(0.5, 1.0, 'Despues de la transformacion Box-Cox')"
      ]
     },
     "execution_count": 14,
     "metadata": {},
     "output_type": "execute_result"
    },
    {
     "data": {
      "image/png": "[encoded data removed]",
      "text/plain": [
       "<Figure size 432x288 with 2 Axes>"
      ]
     },
     "metadata": {
      "needs_background": "light"
     },
     "output_type": "display_data"
    }
   ],
   "source": [
    "from scipy.stats import probplot, norm\n",
    "\n",
    "fig = plt.figure()\n",
    "ax1 = fig.add_subplot(211)\n",
    "prob = probplot(df[\"Apertura\"], dist=norm, plot=ax1)\n",
    "ax1.set_title('Probplot against normal distribution')\n",
    "\n",
    "ax2 = fig.add_subplot(212)\n",
    "prob = probplot(df[\"Apertura_transf\"], dist=norm, plot=ax2)\n",
    "ax2.set_title('Despues de la transformacion Box-Cox')"
   ]
  },
  {
   "cell_type": "markdown",
   "metadata": {
    "id": "MfXdZVugikH5"
   },
   "source": [
    "La transformación box cox parace no tener un gran efecto en los datos."
   ]
  },
  {
   "cell_type": "markdown",
   "metadata": {
    "id": "H3GK-WSjjEwZ"
   },
   "source": [
    "#### Autocorrelacion"
   ]
  },
  {
   "cell_type": "code",
   "execution_count": 15,
   "metadata": {
    "colab": {
     "base_uri": "https://localhost:8080/",
     "height": 545
    },
    "id": "V4qelU1yfYvw",
    "outputId": "9c3dfdd1-faa8-44a1-9dcb-78d19e9684a4"
   },
   "outputs": [
    {
     "name": "stderr",
     "output_type": "stream",
     "text": [
      "C:\\Users\\OLEG_\\Anaconda3\\envs\\tensorflow\\lib\\site-packages\\ipykernel_launcher.py:7: FutureWarning: the 'unbiased'' keyword is deprecated, use 'adjusted' instead\n",
      "  import sys\n"
     ]
    },
    {
     "data": {
      "image/png": "[encoded data removed]",
      "text/plain": [
       "<Figure size 432x288 with 1 Axes>"
      ]
     },
     "metadata": {
      "needs_background": "light"
     },
     "output_type": "display_data"
    },
    {
     "data": {
      "image/png": "[encoded data removed]",
      "text/plain": [
       "<Figure size 432x288 with 1 Axes>"
      ]
     },
     "metadata": {
      "needs_background": "light"
     },
     "output_type": "display_data"
    }
   ],
   "source": [
    "from statsmodels.tsa.stattools import acf\n",
    "from statsmodels.tsa.stattools import pacf\n",
    "from statsmodels.graphics.tsaplots import plot_acf\n",
    "from statsmodels.graphics.tsaplots import plot_pacf\n",
    "\n",
    "graph1=plot_pacf(df[\"Apertura_transf\"],lags=30,method='ldbiased')###Note que parece un AR(2)\n",
    "graph2=plot_acf(df[\"Apertura_transf\"],lags=60,unbiased=False)"
   ]
  },
  {
   "cell_type": "code",
   "execution_count": 16,
   "metadata": {},
   "outputs": [
    {
     "name": "stdout",
     "output_type": "stream",
     "text": [
      "ADF Statistic: -0.176642\n",
      "P-value: 0.622507\n",
      "\t1%: -2.569\n",
      "\t5%: -1.941\n",
      "\t10%: -1.616\n"
     ]
    }
   ],
   "source": [
    "from statsmodels.tsa.stattools import adfuller\n",
    "resultadoadf=adfuller(df[\"Apertura_transf\"],regression=\"nc\") #Se debe elegir un lagmax grande y ver si el valor t de el último coeficiente de la variable\n",
    "print('ADF Statistic: %f' % resultadoadf[0])\n",
    "print('P-value: %f' % resultadoadf[1])\n",
    "for key, value in resultadoadf[4].items():\n",
    "    print('\\t%s: %.3f' % (key, value))\n",
    "###Al no rechazarse la hipótesis nula implica que existe raíz unitaria."
   ]
  },
  {
   "cell_type": "code",
   "execution_count": 17,
   "metadata": {},
   "outputs": [
    {
     "name": "stdout",
     "output_type": "stream",
     "text": [
      "P_VALOR: 0.6225073151487817\n"
     ]
    },
    {
     "data": {
      "text/html": [
       "<table class=\"simpletable\">\n",
       "<caption>OLS Regression Results</caption>\n",
       "<tr>\n",
       "  <th>Dep. Variable:</th>            <td>y</td>        <th>  R-squared (uncentered):</th>      <td>   0.031</td>\n",
       "</tr>\n",
       "<tr>\n",
       "  <th>Model:</th>                   <td>OLS</td>       <th>  Adj. R-squared (uncentered):</th> <td>   0.022</td>\n",
       "</tr>\n",
       "<tr>\n",
       "  <th>Method:</th>             <td>Least Squares</td>  <th>  F-statistic:       </th>          <td>   3.572</td>\n",
       "</tr>\n",
       "<tr>\n",
       "  <th>Date:</th>             <td>Fri, 04 Dec 2020</td> <th>  Prob (F-statistic):</th>           <td>0.00172</td>\n",
       "</tr>\n",
       "<tr>\n",
       "  <th>Time:</th>                 <td>22:28:40</td>     <th>  Log-Likelihood:    </th>          <td> -283.55</td>\n",
       "</tr>\n",
       "<tr>\n",
       "  <th>No. Observations:</th>      <td>   671</td>      <th>  AIC:               </th>          <td>   579.1</td>\n",
       "</tr>\n",
       "<tr>\n",
       "  <th>Df Residuals:</th>          <td>   665</td>      <th>  BIC:               </th>          <td>   606.2</td>\n",
       "</tr>\n",
       "<tr>\n",
       "  <th>Df Model:</th>              <td>     6</td>      <th>                     </th>              <td> </td>   \n",
       "</tr>\n",
       "<tr>\n",
       "  <th>Covariance Type:</th>      <td>nonrobust</td>    <th>                     </th>              <td> </td>   \n",
       "</tr>\n",
       "</table>\n",
       "<table class=\"simpletable\">\n",
       "<tr>\n",
       "   <td></td>     <th>coef</th>     <th>std err</th>      <th>t</th>      <th>P>|t|</th>  <th>[0.025</th>    <th>0.975]</th>  \n",
       "</tr>\n",
       "<tr>\n",
       "  <th>x1</th> <td>-9.155e-05</td> <td>    0.001</td> <td>   -0.177</td> <td> 0.860</td> <td>   -0.001</td> <td>    0.001</td>\n",
       "</tr>\n",
       "<tr>\n",
       "  <th>x2</th> <td>    0.1121</td> <td>    0.039</td> <td>    2.902</td> <td> 0.004</td> <td>    0.036</td> <td>    0.188</td>\n",
       "</tr>\n",
       "<tr>\n",
       "  <th>x3</th> <td>   -0.0558</td> <td>    0.039</td> <td>   -1.436</td> <td> 0.151</td> <td>   -0.132</td> <td>    0.020</td>\n",
       "</tr>\n",
       "<tr>\n",
       "  <th>x4</th> <td>   -0.0697</td> <td>    0.039</td> <td>   -1.795</td> <td> 0.073</td> <td>   -0.146</td> <td>    0.007</td>\n",
       "</tr>\n",
       "<tr>\n",
       "  <th>x5</th> <td>    0.0413</td> <td>    0.039</td> <td>    1.064</td> <td> 0.288</td> <td>   -0.035</td> <td>    0.118</td>\n",
       "</tr>\n",
       "<tr>\n",
       "  <th>x6</th> <td>    0.0819</td> <td>    0.039</td> <td>    2.125</td> <td> 0.034</td> <td>    0.006</td> <td>    0.158</td>\n",
       "</tr>\n",
       "</table>\n",
       "<table class=\"simpletable\">\n",
       "<tr>\n",
       "  <th>Omnibus:</th>       <td>243.774</td> <th>  Durbin-Watson:     </th> <td>   2.002</td>\n",
       "</tr>\n",
       "<tr>\n",
       "  <th>Prob(Omnibus):</th> <td> 0.000</td>  <th>  Jarque-Bera (JB):  </th> <td>3642.058</td>\n",
       "</tr>\n",
       "<tr>\n",
       "  <th>Skew:</th>          <td> 1.198</td>  <th>  Prob(JB):          </th> <td>    0.00</td>\n",
       "</tr>\n",
       "<tr>\n",
       "  <th>Kurtosis:</th>      <td>14.159</td>  <th>  Cond. No.          </th> <td>    82.9</td>\n",
       "</tr>\n",
       "</table><br/><br/>Notes:<br/>[1] R² is computed without centering (uncentered) since the model does not contain a constant.<br/>[2] Standard Errors assume that the covariance matrix of the errors is correctly specified."
      ],
      "text/plain": [
       "<class 'statsmodels.iolib.summary.Summary'>\n",
       "\"\"\"\n",
       "                                 OLS Regression Results                                \n",
       "=======================================================================================\n",
       "Dep. Variable:                      y   R-squared (uncentered):                   0.031\n",
       "Model:                            OLS   Adj. R-squared (uncentered):              0.022\n",
       "Method:                 Least Squares   F-statistic:                              3.572\n",
       "Date:                Fri, 04 Dec 2020   Prob (F-statistic):                     0.00172\n",
       "Time:                        22:28:40   Log-Likelihood:                         -283.55\n",
       "No. Observations:                 671   AIC:                                      579.1\n",
       "Df Residuals:                     665   BIC:                                      606.2\n",
       "Df Model:                           6                                                  \n",
       "Covariance Type:            nonrobust                                                  \n",
       "==============================================================================\n",
       "                 coef    std err          t      P>|t|      [0.025      0.975]\n",
       "------------------------------------------------------------------------------\n",
       "x1         -9.155e-05      0.001     -0.177      0.860      -0.001       0.001\n",
       "x2             0.1121      0.039      2.902      0.004       0.036       0.188\n",
       "x3            -0.0558      0.039     -1.436      0.151      -0.132       0.020\n",
       "x4            -0.0697      0.039     -1.795      0.073      -0.146       0.007\n",
       "x5             0.0413      0.039      1.064      0.288      -0.035       0.118\n",
       "x6             0.0819      0.039      2.125      0.034       0.006       0.158\n",
       "==============================================================================\n",
       "Omnibus:                      243.774   Durbin-Watson:                   2.002\n",
       "Prob(Omnibus):                  0.000   Jarque-Bera (JB):             3642.058\n",
       "Skew:                           1.198   Prob(JB):                         0.00\n",
       "Kurtosis:                      14.159   Cond. No.                         82.9\n",
       "==============================================================================\n",
       "\n",
       "Notes:\n",
       "[1] R² is computed without centering (uncentered) since the model does not contain a constant.\n",
       "[2] Standard Errors assume that the covariance matrix of the errors is correctly specified.\n",
       "\"\"\""
      ]
     },
     "execution_count": 17,
     "metadata": {},
     "output_type": "execute_result"
    }
   ],
   "source": [
    "adfstat, pvalue, critvalues, resstore=adfuller(df[\"Apertura_transf\"],regression=\"nc\",maxlag=12,store=True,regresults=True)####maxlag es importante\n",
    "print(\"P_VALOR:\",pvalue)\n",
    "resstore.resols.summary()"
   ]
  },
  {
   "cell_type": "markdown",
   "metadata": {
    "id": "vFdbBgAFf7U5"
   },
   "source": [
    "Podemos ver que existen señales de presencia de raices unitarias, procedemos a eliminar la tendencia diferenciando la serie."
   ]
  },
  {
   "cell_type": "code",
   "execution_count": 18,
   "metadata": {
    "colab": {
     "base_uri": "https://localhost:8080/",
     "height": 287
    },
    "id": "jpq-1FdRjNb0",
    "outputId": "19b9f36f-ce63-43d9-ba64-b5243b21a6af"
   },
   "outputs": [
    {
     "data": {
      "text/plain": [
       "[<matplotlib.lines.Line2D at 0x1fa36ca0e88>]"
      ]
     },
     "execution_count": 18,
     "metadata": {},
     "output_type": "execute_result"
    },
    {
     "data": {
      "image/png": "[encoded data removed]",
      "text/plain": [
       "<Figure size 432x288 with 1 Axes>"
      ]
     },
     "metadata": {
      "needs_background": "light"
     },
     "output_type": "display_data"
    }
   ],
   "source": [
    "df[\"Apertura_diff\"]=df[\"Apertura_transf\"].diff(periods=1)[1:] #orden de intregacion n\n",
    "plt.plot(df[\"Apertura_diff\"])"
   ]
  },
  {
   "cell_type": "code",
   "execution_count": 19,
   "metadata": {},
   "outputs": [
    {
     "name": "stdout",
     "output_type": "stream",
     "text": [
      "             Último  Apertura   Máximo   Mínimo     Vol.   % var.  \\\n",
      "Fecha                                                               \n",
      "2007-02-12  1.990,0    2020.0  2.075,0  1.855,0  150,44M   -1,00%   \n",
      "2007-09-12  2.015,0    1870.0  2.080,0  1.970,0   86,75M    1,26%   \n",
      "2007-12-16  2.015,0    1795.0  2.040,0  1.920,0   99,91M    0,00%   \n",
      "2007-12-23  2.020,0    1851.0  2.045,0  2.000,0   20,62M    0,25%   \n",
      "2007-12-30  2.025,0    1871.0  2.035,0  2.005,0    6,13M    0,25%   \n",
      "...             ...       ...      ...      ...      ...      ...   \n",
      "2020-11-10  1.880,0    2015.0  1.920,0  1.839,0   27,32M   -2,99%   \n",
      "2020-11-15  2.145,0    2015.0  2.159,0  2.020,0    8,01M    7,25%   \n",
      "2020-12-01  3.385,0    2020.0  3.435,0  3.370,0   35,39M   -0,44%   \n",
      "2020-12-04  1.950,0    1985.0  2.400,0  1.910,0   61,82M  -17,37%   \n",
      "2020-12-07  2.220,0    1960.0  2.230,0  2.065,0   37,57M    6,73%   \n",
      "\n",
      "            Apertura_transf  Apertura_diff  \n",
      "Fecha                                       \n",
      "2007-02-12        25.021686            NaN  \n",
      "2007-09-12        24.432238      -0.589448  \n",
      "2007-12-16        24.124455      -0.307783  \n",
      "2007-12-23        24.355133       0.230678  \n",
      "2007-12-30        24.436280       0.081148  \n",
      "...                     ...            ...  \n",
      "2020-11-10        25.002563      -0.019123  \n",
      "2020-11-15        25.002563       0.000000  \n",
      "2020-12-01        25.021686       0.019123  \n",
      "2020-12-04        24.887088      -0.134598  \n",
      "2020-12-07        24.789880      -0.097208  \n",
      "\n",
      "[677 rows x 8 columns]\n"
     ]
    }
   ],
   "source": [
    "print(df)"
   ]
  },
  {
   "cell_type": "markdown",
   "metadata": {
    "id": "00VGISdujfDa"
   },
   "source": [
    "con solo una difereniaciacion de orden 1 es suficiente, procedemos a detectar si hay estacionalidad."
   ]
  },
  {
   "cell_type": "code",
   "execution_count": 20,
   "metadata": {
    "colab": {
     "base_uri": "https://localhost:8080/",
     "height": 545
    },
    "id": "qlHP6EgnjYcw",
    "outputId": "fda45eff-46ae-4fa2-8155-d83553f734cf"
   },
   "outputs": [
    {
     "name": "stderr",
     "output_type": "stream",
     "text": [
      "C:\\Users\\OLEG_\\Anaconda3\\envs\\tensorflow\\lib\\site-packages\\ipykernel_launcher.py:2: FutureWarning: the 'unbiased'' keyword is deprecated, use 'adjusted' instead\n",
      "  \n"
     ]
    },
    {
     "data": {
      "image/png": "[encoded data removed]",
      "text/plain": [
       "<Figure size 432x288 with 1 Axes>"
      ]
     },
     "metadata": {
      "needs_background": "light"
     },
     "output_type": "display_data"
    },
    {
     "data": {
      "image/png": "[encoded data removed]",
      "text/plain": [
       "<Figure size 432x288 with 1 Axes>"
      ]
     },
     "metadata": {
      "needs_background": "light"
     },
     "output_type": "display_data"
    }
   ],
   "source": [
    "graph1=plot_pacf(df[\"Apertura_diff\"][1:],lags=30,method='ldbiased')###Note que parece un AR(2)\n",
    "graph2=plot_acf(df[\"Apertura_diff\"][1:],lags=60,unbiased=False)"
   ]
  },
  {
   "cell_type": "code",
   "execution_count": 21,
   "metadata": {},
   "outputs": [
    {
     "name": "stdout",
     "output_type": "stream",
     "text": [
      "ADF Statistic: -10.698583\n",
      "P-value: 0.000000\n",
      "\t1%: -2.569\n",
      "\t5%: -1.941\n",
      "\t10%: -1.616\n"
     ]
    }
   ],
   "source": [
    "from statsmodels.tsa.stattools import adfuller\n",
    "resultadoadf=adfuller(df[\"Apertura_diff\"][1:],regression=\"nc\") #Se debe elegir un lagmax grande y ver si el valor t de el último coeficiente de la variable\n",
    "print('ADF Statistic: %f' % resultadoadf[0])\n",
    "print('P-value: %f' % resultadoadf[1])\n",
    "for key, value in resultadoadf[4].items():\n",
    "    print('\\t%s: %.3f' % (key, value))\n",
    "###Al no rechazarse la hipótesis nula implica que existe raíz unitaria."
   ]
  },
  {
   "cell_type": "markdown",
   "metadata": {
    "id": "6dg1B2eIkDaB"
   },
   "source": [
    "No hay indicios de presencia de estacionalidad en la serie con las transformaciones hechas hasta ahora."
   ]
  },
  {
   "cell_type": "code",
   "execution_count": 22,
   "metadata": {
    "id": "0k5jXf9RlFKA"
   },
   "outputs": [],
   "source": [
    "### gráficos para verificar ciclos\n",
    "\n",
    "## AR(2)\n",
    "\n",
    "# ARIMA\n",
    "import statsmodels.api as smapi\n",
    "import seaborn"
   ]
  },
  {
   "cell_type": "code",
   "execution_count": null,
   "metadata": {},
   "outputs": [],
   "source": []
  },
  {
   "cell_type": "code",
   "execution_count": 23,
   "metadata": {},
   "outputs": [
    {
     "ename": "AttributeError",
     "evalue": "'NoneType' object has no attribute 'startswith'",
     "output_type": "error",
     "traceback": [
      "\u001b[1;31m---------------------------------------------------------------------------\u001b[0m",
      "\u001b[1;31mAttributeError\u001b[0m                            Traceback (most recent call last)",
      "\u001b[1;32m<ipython-input-23-7ea1d7edb381>\u001b[0m in \u001b[0;36m<module>\u001b[1;34m\u001b[0m\n\u001b[0;32m      1\u001b[0m \u001b[0mplt\u001b[0m\u001b[1;33m.\u001b[0m\u001b[0mplot\u001b[0m\u001b[1;33m(\u001b[0m\u001b[0mdf\u001b[0m\u001b[1;33m[\u001b[0m\u001b[1;34m\"Apertura_diff\"\u001b[0m\u001b[1;33m]\u001b[0m\u001b[1;33m[\u001b[0m\u001b[1;36m1\u001b[0m\u001b[1;33m:\u001b[0m\u001b[1;33m]\u001b[0m\u001b[1;33m)\u001b[0m\u001b[1;33m\u001b[0m\u001b[1;33m\u001b[0m\u001b[0m\n\u001b[1;32m----> 2\u001b[1;33m \u001b[0mfig\u001b[0m \u001b[1;33m=\u001b[0m \u001b[0msmapi\u001b[0m\u001b[1;33m.\u001b[0m\u001b[0mgraphics\u001b[0m\u001b[1;33m.\u001b[0m\u001b[0mtsa\u001b[0m\u001b[1;33m.\u001b[0m\u001b[0mmonth_plot\u001b[0m\u001b[1;33m(\u001b[0m\u001b[0mdf\u001b[0m\u001b[1;33m[\u001b[0m\u001b[1;34m\"Apertura_diff\"\u001b[0m\u001b[1;33m]\u001b[0m\u001b[1;33m[\u001b[0m\u001b[1;36m1\u001b[0m\u001b[1;33m:\u001b[0m\u001b[1;33m]\u001b[0m\u001b[1;33m)\u001b[0m\u001b[1;33m\u001b[0m\u001b[1;33m\u001b[0m\u001b[0m\n\u001b[0m",
      "\u001b[1;32m~\\Anaconda3\\envs\\tensorflow\\lib\\site-packages\\statsmodels\\graphics\\tsaplots.py\u001b[0m in \u001b[0;36mmonth_plot\u001b[1;34m(x, dates, ylabel, ax)\u001b[0m\n\u001b[0;32m    404\u001b[0m         \u001b[1;32mfrom\u001b[0m \u001b[0mstatsmodels\u001b[0m\u001b[1;33m.\u001b[0m\u001b[0mtools\u001b[0m\u001b[1;33m.\u001b[0m\u001b[0mdata\u001b[0m \u001b[1;32mimport\u001b[0m \u001b[0m_check_period_index\u001b[0m\u001b[1;33m\u001b[0m\u001b[1;33m\u001b[0m\u001b[0m\n\u001b[0;32m    405\u001b[0m \u001b[1;33m\u001b[0m\u001b[0m\n\u001b[1;32m--> 406\u001b[1;33m         \u001b[0m_check_period_index\u001b[0m\u001b[1;33m(\u001b[0m\u001b[0mx\u001b[0m\u001b[1;33m,\u001b[0m \u001b[0mfreq\u001b[0m\u001b[1;33m=\u001b[0m\u001b[1;34m\"M\"\u001b[0m\u001b[1;33m)\u001b[0m\u001b[1;33m\u001b[0m\u001b[1;33m\u001b[0m\u001b[0m\n\u001b[0m\u001b[0;32m    407\u001b[0m     \u001b[1;32melse\u001b[0m\u001b[1;33m:\u001b[0m\u001b[1;33m\u001b[0m\u001b[1;33m\u001b[0m\u001b[0m\n\u001b[0;32m    408\u001b[0m         \u001b[0mx\u001b[0m \u001b[1;33m=\u001b[0m \u001b[0mpd\u001b[0m\u001b[1;33m.\u001b[0m\u001b[0mSeries\u001b[0m\u001b[1;33m(\u001b[0m\u001b[0mx\u001b[0m\u001b[1;33m,\u001b[0m \u001b[0mindex\u001b[0m\u001b[1;33m=\u001b[0m\u001b[0mpd\u001b[0m\u001b[1;33m.\u001b[0m\u001b[0mPeriodIndex\u001b[0m\u001b[1;33m(\u001b[0m\u001b[0mdates\u001b[0m\u001b[1;33m,\u001b[0m \u001b[0mfreq\u001b[0m\u001b[1;33m=\u001b[0m\u001b[1;34m\"M\"\u001b[0m\u001b[1;33m)\u001b[0m\u001b[1;33m)\u001b[0m\u001b[1;33m\u001b[0m\u001b[1;33m\u001b[0m\u001b[0m\n",
      "\u001b[1;32m~\\Anaconda3\\envs\\tensorflow\\lib\\site-packages\\statsmodels\\tools\\data.py\u001b[0m in \u001b[0;36m_check_period_index\u001b[1;34m(x, freq)\u001b[0m\n\u001b[0;32m     15\u001b[0m     \u001b[1;32melse\u001b[0m\u001b[1;33m:\u001b[0m\u001b[1;33m\u001b[0m\u001b[1;33m\u001b[0m\u001b[0m\n\u001b[0;32m     16\u001b[0m         \u001b[0minferred_freq\u001b[0m \u001b[1;33m=\u001b[0m \u001b[0mpd\u001b[0m\u001b[1;33m.\u001b[0m\u001b[0minfer_freq\u001b[0m\u001b[1;33m(\u001b[0m\u001b[0mx\u001b[0m\u001b[1;33m.\u001b[0m\u001b[0mindex\u001b[0m\u001b[1;33m)\u001b[0m\u001b[1;33m\u001b[0m\u001b[1;33m\u001b[0m\u001b[0m\n\u001b[1;32m---> 17\u001b[1;33m     \u001b[1;32mif\u001b[0m \u001b[1;32mnot\u001b[0m \u001b[0minferred_freq\u001b[0m\u001b[1;33m.\u001b[0m\u001b[0mstartswith\u001b[0m\u001b[1;33m(\u001b[0m\u001b[0mfreq\u001b[0m\u001b[1;33m)\u001b[0m\u001b[1;33m:\u001b[0m\u001b[1;33m\u001b[0m\u001b[1;33m\u001b[0m\u001b[0m\n\u001b[0m\u001b[0;32m     18\u001b[0m         raise ValueError(\"Expected frequency {}. Got {}\".format(inferred_freq,\n\u001b[0;32m     19\u001b[0m                                                                 freq))\n",
      "\u001b[1;31mAttributeError\u001b[0m: 'NoneType' object has no attribute 'startswith'"
     ]
    },
    {
     "data": {
      "image/png": "[encoded data removed]",
      "text/plain": [
       "<Figure size 432x288 with 1 Axes>"
      ]
     },
     "metadata": {
      "needs_background": "light"
     },
     "output_type": "display_data"
    }
   ],
   "source": [
    "plt.plot(df[\"Apertura_diff\"][1:])\n",
    "fig = smapi.graphics.tsa.month_plot(df[\"Apertura_diff\"][1:])"
   ]
  },
  {
   "cell_type": "code",
   "execution_count": 24,
   "metadata": {},
   "outputs": [],
   "source": [
    "X_train=df[\"Apertura_transf\"][:int(len(df[\"Apertura_transf\"])*0.8)]\n",
    "X_test=df[\"Apertura_transf\"][int(len(df[\"Apertura_transf\"])*0.8):]"
   ]
  },
  {
   "cell_type": "code",
   "execution_count": 25,
   "metadata": {},
   "outputs": [
    {
     "name": "stdout",
     "output_type": "stream",
     "text": [
      "Fecha\n",
      "2007-02-12    25.021686\n",
      "2007-09-12    24.432238\n",
      "2007-12-16    24.124455\n",
      "2007-12-23    24.355133\n",
      "2007-12-30    24.436280\n",
      "                ...    \n",
      "2018-03-06    29.335211\n",
      "2018-03-18    28.622661\n",
      "2018-03-25    28.567120\n",
      "2018-04-02    28.228278\n",
      "2018-04-03    27.745761\n",
      "Name: Apertura_transf, Length: 541, dtype: float64\n",
      "Fecha\n",
      "2018-04-11    27.427887\n",
      "2018-04-15    27.534826\n",
      "2018-04-22    27.550021\n",
      "2018-04-29    27.381749\n",
      "2018-05-08    27.319940\n",
      "                ...    \n",
      "2020-11-10    25.002563\n",
      "2020-11-15    25.002563\n",
      "2020-12-01    25.021686\n",
      "2020-12-04    24.887088\n",
      "2020-12-07    24.789880\n",
      "Name: Apertura_transf, Length: 136, dtype: float64\n"
     ]
    }
   ],
   "source": [
    "print(X_train)\n",
    "print(X_test)"
   ]
  },
  {
   "cell_type": "code",
   "execution_count": 26,
   "metadata": {},
   "outputs": [
    {
     "name": "stderr",
     "output_type": "stream",
     "text": [
      "C:\\Users\\OLEG_\\Anaconda3\\envs\\tensorflow\\lib\\site-packages\\statsmodels\\tsa\\base\\tsa_model.py:583: ValueWarning: A date index has been provided, but it has no associated frequency information and so will be ignored when e.g. forecasting.\n",
      "  ' ignored when e.g. forecasting.', ValueWarning)\n",
      "C:\\Users\\OLEG_\\Anaconda3\\envs\\tensorflow\\lib\\site-packages\\statsmodels\\tsa\\base\\tsa_model.py:583: ValueWarning: A date index has been provided, but it has no associated frequency information and so will be ignored when e.g. forecasting.\n",
      "  ' ignored when e.g. forecasting.', ValueWarning)\n",
      "C:\\Users\\OLEG_\\Anaconda3\\envs\\tensorflow\\lib\\site-packages\\statsmodels\\tsa\\statespace\\sarimax.py:965: UserWarning: Non-stationary starting autoregressive parameters found. Using zeros as starting parameters.\n",
      "  warn('Non-stationary starting autoregressive parameters'\n",
      "C:\\Users\\OLEG_\\Anaconda3\\envs\\tensorflow\\lib\\site-packages\\statsmodels\\tsa\\statespace\\sarimax.py:977: UserWarning: Non-invertible starting MA parameters found. Using zeros as starting parameters.\n",
      "  warn('Non-invertible starting MA parameters found.'\n"
     ]
    },
    {
     "data": {
      "text/html": [
       "<table class=\"simpletable\">\n",
       "<caption>SARIMAX Results</caption>\n",
       "<tr>\n",
       "  <th>Dep. Variable:</th>    <td>Apertura_transf</td> <th>  No. Observations:  </th>    <td>541</td>  \n",
       "</tr>\n",
       "<tr>\n",
       "  <th>Model:</th>           <td>SARIMAX(3, 1, 3)</td> <th>  Log Likelihood     </th> <td>-243.569</td>\n",
       "</tr>\n",
       "<tr>\n",
       "  <th>Date:</th>            <td>Fri, 04 Dec 2020</td> <th>  AIC                </th>  <td>501.138</td>\n",
       "</tr>\n",
       "<tr>\n",
       "  <th>Time:</th>                <td>22:29:14</td>     <th>  BIC                </th>  <td>531.179</td>\n",
       "</tr>\n",
       "<tr>\n",
       "  <th>Sample:</th>                  <td>0</td>        <th>  HQIC               </th>  <td>512.887</td>\n",
       "</tr>\n",
       "<tr>\n",
       "  <th></th>                      <td> - 541</td>      <th>                     </th>     <td> </td>   \n",
       "</tr>\n",
       "<tr>\n",
       "  <th>Covariance Type:</th>        <td>opg</td>       <th>                     </th>     <td> </td>   \n",
       "</tr>\n",
       "</table>\n",
       "<table class=\"simpletable\">\n",
       "<tr>\n",
       "     <td></td>       <th>coef</th>     <th>std err</th>      <th>z</th>      <th>P>|z|</th>  <th>[0.025</th>    <th>0.975]</th>  \n",
       "</tr>\n",
       "<tr>\n",
       "  <th>ar.L1</th>  <td>    0.1322</td> <td>    2.145</td> <td>    0.062</td> <td> 0.951</td> <td>   -4.072</td> <td>    4.336</td>\n",
       "</tr>\n",
       "<tr>\n",
       "  <th>ar.L2</th>  <td>   -0.5127</td> <td>    0.655</td> <td>   -0.783</td> <td> 0.433</td> <td>   -1.796</td> <td>    0.770</td>\n",
       "</tr>\n",
       "<tr>\n",
       "  <th>ar.L3</th>  <td>   -0.0662</td> <td>    1.403</td> <td>   -0.047</td> <td> 0.962</td> <td>   -2.817</td> <td>    2.684</td>\n",
       "</tr>\n",
       "<tr>\n",
       "  <th>ma.L1</th>  <td>   -0.0009</td> <td>    2.152</td> <td>   -0.000</td> <td> 1.000</td> <td>   -4.219</td> <td>    4.217</td>\n",
       "</tr>\n",
       "<tr>\n",
       "  <th>ma.L2</th>  <td>    0.4465</td> <td>    0.405</td> <td>    1.103</td> <td> 0.270</td> <td>   -0.347</td> <td>    1.240</td>\n",
       "</tr>\n",
       "<tr>\n",
       "  <th>ma.L3</th>  <td>    0.0215</td> <td>    1.223</td> <td>    0.018</td> <td> 0.986</td> <td>   -2.375</td> <td>    2.418</td>\n",
       "</tr>\n",
       "<tr>\n",
       "  <th>sigma2</th> <td>    0.1443</td> <td>    0.005</td> <td>   27.788</td> <td> 0.000</td> <td>    0.134</td> <td>    0.154</td>\n",
       "</tr>\n",
       "</table>\n",
       "<table class=\"simpletable\">\n",
       "<tr>\n",
       "  <th>Ljung-Box (L1) (Q):</th>     <td>0.00</td> <th>  Jarque-Bera (JB):  </th> <td>2578.14</td>\n",
       "</tr>\n",
       "<tr>\n",
       "  <th>Prob(Q):</th>                <td>0.99</td> <th>  Prob(JB):          </th>  <td>0.00</td>  \n",
       "</tr>\n",
       "<tr>\n",
       "  <th>Heteroskedasticity (H):</th> <td>0.43</td> <th>  Skew:              </th>  <td>1.10</td>  \n",
       "</tr>\n",
       "<tr>\n",
       "  <th>Prob(H) (two-sided):</th>    <td>0.00</td> <th>  Kurtosis:          </th>  <td>13.48</td> \n",
       "</tr>\n",
       "</table><br/><br/>Warnings:<br/>[1] Covariance matrix calculated using the outer product of gradients (complex-step)."
      ],
      "text/plain": [
       "<class 'statsmodels.iolib.summary.Summary'>\n",
       "\"\"\"\n",
       "                               SARIMAX Results                                \n",
       "==============================================================================\n",
       "Dep. Variable:        Apertura_transf   No. Observations:                  541\n",
       "Model:               SARIMAX(3, 1, 3)   Log Likelihood                -243.569\n",
       "Date:                Fri, 04 Dec 2020   AIC                            501.138\n",
       "Time:                        22:29:14   BIC                            531.179\n",
       "Sample:                             0   HQIC                           512.887\n",
       "                                - 541                                         \n",
       "Covariance Type:                  opg                                         \n",
       "==============================================================================\n",
       "                 coef    std err          z      P>|z|      [0.025      0.975]\n",
       "------------------------------------------------------------------------------\n",
       "ar.L1          0.1322      2.145      0.062      0.951      -4.072       4.336\n",
       "ar.L2         -0.5127      0.655     -0.783      0.433      -1.796       0.770\n",
       "ar.L3         -0.0662      1.403     -0.047      0.962      -2.817       2.684\n",
       "ma.L1         -0.0009      2.152     -0.000      1.000      -4.219       4.217\n",
       "ma.L2          0.4465      0.405      1.103      0.270      -0.347       1.240\n",
       "ma.L3          0.0215      1.223      0.018      0.986      -2.375       2.418\n",
       "sigma2         0.1443      0.005     27.788      0.000       0.134       0.154\n",
       "===================================================================================\n",
       "Ljung-Box (L1) (Q):                   0.00   Jarque-Bera (JB):              2578.14\n",
       "Prob(Q):                              0.99   Prob(JB):                         0.00\n",
       "Heteroskedasticity (H):               0.43   Skew:                             1.10\n",
       "Prob(H) (two-sided):                  0.00   Kurtosis:                        13.48\n",
       "===================================================================================\n",
       "\n",
       "Warnings:\n",
       "[1] Covariance matrix calculated using the outer product of gradients (complex-step).\n",
       "\"\"\""
      ]
     },
     "execution_count": 26,
     "metadata": {},
     "output_type": "execute_result"
    }
   ],
   "source": [
    "modeloarima1=smapi.tsa.statespace.SARIMAX(X_train, trend='n', order=(3,1,3))\n",
    "ajustearima=modeloarima1.fit()\n",
    "ajustearima.summary()"
   ]
  },
  {
   "cell_type": "code",
   "execution_count": 27,
   "metadata": {},
   "outputs": [
    {
     "data": {
      "image/png": "[encoded data removed]",
      "text/plain": [
       "<Figure size 432x288 with 4 Axes>"
      ]
     },
     "metadata": {
      "needs_background": "light"
     },
     "output_type": "display_data"
    },
    {
     "name": "stdout",
     "output_type": "stream",
     "text": [
      "[[4.25158271e-01 1.64471901e-08]]\n",
      "[[2.57814014e+03 0.00000000e+00 1.10163532e+00 1.34751900e+01]]\n"
     ]
    }
   ],
   "source": [
    "#####Análisis de Residuales######\n",
    "residuales=ajustearima.resid #Residuales no estandarizados\n",
    "\n",
    "ajustearima.plot_diagnostics()\n",
    "plt.show()\n",
    "## Hipótesis nula de no heterocedasticidad\n",
    "print(ajustearima.test_heteroskedasticity(method='breakvar')) #[Est. de prueba, p-valor]\n",
    "## Hipótesis nula de normalidad\n",
    "print(ajustearima.test_normality(method='jarquebera'))"
   ]
  },
  {
   "cell_type": "code",
   "execution_count": null,
   "metadata": {},
   "outputs": [],
   "source": [
    "pronosticos=ajustearima.forecast(steps=136)\n",
    "fechas_fore"
   ]
  },
  {
   "cell_type": "code",
   "execution_count": null,
   "metadata": {},
   "outputs": [],
   "source": [
    "fig = plt.figure(figsize=(12, 8))\n",
    "ax = fig.add_subplot(1,1,1)\n",
    "#Serie actual\n",
    "#ax.plot(X_train.astype('float64'), '--', color=\"blue\", label='Serie')\n",
    "# Pronóstico\n",
    "ax.plot(pronosticos, lw=1, color=\"black\", alpha=0.5, label='Pronostico')\n",
    "#ax.legend(loc='upper right')"
   ]
  },
  {
   "cell_type": "code",
   "execution_count": null,
   "metadata": {},
   "outputs": [],
   "source": []
  }
 ],
 "metadata": {
  "colab": {
   "collapsed_sections": [],
   "name": "Acciones de Ecopetrol.ipynb",
   "provenance": []
  },
  "kernelspec": {
   "display_name": "Python 3",
   "language": "python",
   "name": "python3"
  },
  "language_info": {
   "codemirror_mode": {
    "name": "ipython",
    "version": 3
   },
   "file_extension": ".py",
   "mimetype": "text/x-python",
   "name": "python",
   "nbconvert_exporter": "python",
   "pygments_lexer": "ipython3",
   "version": "3.7.7"
  }
 },
 "nbformat": 4,
 "nbformat_minor": 4
}
