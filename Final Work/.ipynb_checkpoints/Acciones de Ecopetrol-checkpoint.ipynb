{
 "cells": [
  {
   "cell_type": "markdown",
   "metadata": {
    "id": "IkOhjsdbopBM"
   },
   "source": [
    "# Análisis de las acciones de Ecopetrol\n",
    "\n",
    "- Descripción de los datos\n",
    "- Posibles modelos\n",
    ".\n",
    ".\n",
    "."
   ]
  },
  {
   "cell_type": "markdown",
   "metadata": {
    "id": "M2FN2NGloh0D"
   },
   "source": [
    "## Descripción de los datos\n",
    "Los datos pertenecen al valor de las acciones mesuales de Ecopetrol desde el 2 de diciembre del 2007 hasta el 15 de noviembre del 2020"
   ]
  },
  {
   "cell_type": "code",
   "execution_count": 1,
   "metadata": {
    "id": "FJ14fJvfoD-X"
   },
   "outputs": [],
   "source": [
    "import pandas as pd\n",
    "import numpy as np\n",
    "import zipfile\n",
    "import datetime\n",
    "import matplotlib.pyplot as plt"
   ]
  },
  {
   "cell_type": "code",
   "execution_count": 2,
   "metadata": {},
   "outputs": [],
   "source": [
    "############Correr solo en colab\n",
    "\n",
    "#from google.colab import drive\n",
    "#drive.mount('/gdrive')\n",
    "#%cd /gdrive"
   ]
  },
  {
   "cell_type": "code",
   "execution_count": 3,
   "metadata": {
    "colab": {
     "base_uri": "https://localhost:8080/",
     "height": 391
    },
    "id": "qjxWPhMLo1-A",
    "outputId": "adcfa90c-0788-460e-d1ea-079c91c8a70f"
   },
   "outputs": [],
   "source": [
    "#df = pd.read_csv('/gdrive/MyDrive/Series de tiempo/Trabajo final/Datos históricos ECO.csv')\n",
    "df= pd.read_csv('Datos históricos ECO.csv')"
   ]
  },
  {
   "cell_type": "code",
   "execution_count": 4,
   "metadata": {
    "colab": {
     "base_uri": "https://localhost:8080/",
     "height": 225
    },
    "id": "0LwnWQUOpOgV",
    "outputId": "80e39156-2ce0-447a-dd0a-65ca0674fead"
   },
   "outputs": [
    {
     "name": "stdout",
     "output_type": "stream",
     "text": [
      "<class 'pandas.core.frame.DataFrame'>\n"
     ]
    },
    {
     "data": {
      "text/html": [
       "<div>\n",
       "<style scoped>\n",
       "    .dataframe tbody tr th:only-of-type {\n",
       "        vertical-align: middle;\n",
       "    }\n",
       "\n",
       "    .dataframe tbody tr th {\n",
       "        vertical-align: top;\n",
       "    }\n",
       "\n",
       "    .dataframe thead th {\n",
       "        text-align: right;\n",
       "    }\n",
       "</style>\n",
       "<table border=\"1\" class=\"dataframe\">\n",
       "  <thead>\n",
       "    <tr style=\"text-align: right;\">\n",
       "      <th></th>\n",
       "      <th>Fecha</th>\n",
       "      <th>Último</th>\n",
       "      <th>Apertura</th>\n",
       "      <th>Máximo</th>\n",
       "      <th>Mínimo</th>\n",
       "      <th>Vol.</th>\n",
       "      <th>% var.</th>\n",
       "    </tr>\n",
       "  </thead>\n",
       "  <tbody>\n",
       "    <tr>\n",
       "      <th>0</th>\n",
       "      <td>15.11.2020</td>\n",
       "      <td>2.145,0</td>\n",
       "      <td>2.020,0</td>\n",
       "      <td>2.159,0</td>\n",
       "      <td>2.020,0</td>\n",
       "      <td>8,01M</td>\n",
       "      <td>7,25%</td>\n",
       "    </tr>\n",
       "    <tr>\n",
       "      <th>1</th>\n",
       "      <td>08.11.2020</td>\n",
       "      <td>2.000,0</td>\n",
       "      <td>1.870,0</td>\n",
       "      <td>2.025,0</td>\n",
       "      <td>1.870,0</td>\n",
       "      <td>55,42M</td>\n",
       "      <td>9,11%</td>\n",
       "    </tr>\n",
       "    <tr>\n",
       "      <th>2</th>\n",
       "      <td>01.11.2020</td>\n",
       "      <td>1.833,0</td>\n",
       "      <td>1.795,0</td>\n",
       "      <td>1.893,0</td>\n",
       "      <td>1.795,0</td>\n",
       "      <td>27,81M</td>\n",
       "      <td>2,35%</td>\n",
       "    </tr>\n",
       "    <tr>\n",
       "      <th>3</th>\n",
       "      <td>25.10.2020</td>\n",
       "      <td>1.791,0</td>\n",
       "      <td>1.851,0</td>\n",
       "      <td>1.851,0</td>\n",
       "      <td>1.615,0</td>\n",
       "      <td>58,85M</td>\n",
       "      <td>-3,71%</td>\n",
       "    </tr>\n",
       "    <tr>\n",
       "      <th>4</th>\n",
       "      <td>18.10.2020</td>\n",
       "      <td>1.860,0</td>\n",
       "      <td>1.871,0</td>\n",
       "      <td>1.916,0</td>\n",
       "      <td>1.837,0</td>\n",
       "      <td>34,59M</td>\n",
       "      <td>-1,06%</td>\n",
       "    </tr>\n",
       "  </tbody>\n",
       "</table>\n",
       "</div>"
      ],
      "text/plain": [
       "        Fecha   Último Apertura   Máximo   Mínimo    Vol.  % var.\n",
       "0  15.11.2020  2.145,0  2.020,0  2.159,0  2.020,0   8,01M   7,25%\n",
       "1  08.11.2020  2.000,0  1.870,0  2.025,0  1.870,0  55,42M   9,11%\n",
       "2  01.11.2020  1.833,0  1.795,0  1.893,0  1.795,0  27,81M   2,35%\n",
       "3  25.10.2020  1.791,0  1.851,0  1.851,0  1.615,0  58,85M  -3,71%\n",
       "4  18.10.2020  1.860,0  1.871,0  1.916,0  1.837,0  34,59M  -1,06%"
      ]
     },
     "execution_count": 4,
     "metadata": {},
     "output_type": "execute_result"
    }
   ],
   "source": [
    "print(type(df))\n",
    "df.head()"
   ]
  },
  {
   "cell_type": "code",
   "execution_count": 5,
   "metadata": {
    "colab": {
     "base_uri": "https://localhost:8080/",
     "height": 206
    },
    "id": "0ymwo05xpYSy",
    "outputId": "432207dd-7bf7-4732-8bcf-d0a628d1e443"
   },
   "outputs": [
    {
     "data": {
      "text/html": [
       "<div>\n",
       "<style scoped>\n",
       "    .dataframe tbody tr th:only-of-type {\n",
       "        vertical-align: middle;\n",
       "    }\n",
       "\n",
       "    .dataframe tbody tr th {\n",
       "        vertical-align: top;\n",
       "    }\n",
       "\n",
       "    .dataframe thead th {\n",
       "        text-align: right;\n",
       "    }\n",
       "</style>\n",
       "<table border=\"1\" class=\"dataframe\">\n",
       "  <thead>\n",
       "    <tr style=\"text-align: right;\">\n",
       "      <th></th>\n",
       "      <th>Fecha</th>\n",
       "      <th>Último</th>\n",
       "      <th>Apertura</th>\n",
       "      <th>Máximo</th>\n",
       "      <th>Mínimo</th>\n",
       "      <th>Vol.</th>\n",
       "      <th>% var.</th>\n",
       "    </tr>\n",
       "  </thead>\n",
       "  <tbody>\n",
       "    <tr>\n",
       "      <th>676</th>\n",
       "      <td>2007-12-02</td>\n",
       "      <td>1.990,0</td>\n",
       "      <td>1.960,0</td>\n",
       "      <td>2.075,0</td>\n",
       "      <td>1.855,0</td>\n",
       "      <td>150,44M</td>\n",
       "      <td>-1,00%</td>\n",
       "    </tr>\n",
       "    <tr>\n",
       "      <th>675</th>\n",
       "      <td>2007-12-09</td>\n",
       "      <td>2.015,0</td>\n",
       "      <td>1.985,0</td>\n",
       "      <td>2.080,0</td>\n",
       "      <td>1.970,0</td>\n",
       "      <td>86,75M</td>\n",
       "      <td>1,26%</td>\n",
       "    </tr>\n",
       "    <tr>\n",
       "      <th>674</th>\n",
       "      <td>2007-12-16</td>\n",
       "      <td>2.015,0</td>\n",
       "      <td>2.020,0</td>\n",
       "      <td>2.040,0</td>\n",
       "      <td>1.920,0</td>\n",
       "      <td>99,91M</td>\n",
       "      <td>0,00%</td>\n",
       "    </tr>\n",
       "    <tr>\n",
       "      <th>673</th>\n",
       "      <td>2007-12-23</td>\n",
       "      <td>2.020,0</td>\n",
       "      <td>2.015,0</td>\n",
       "      <td>2.045,0</td>\n",
       "      <td>2.000,0</td>\n",
       "      <td>20,62M</td>\n",
       "      <td>0,25%</td>\n",
       "    </tr>\n",
       "    <tr>\n",
       "      <th>672</th>\n",
       "      <td>2007-12-30</td>\n",
       "      <td>2.025,0</td>\n",
       "      <td>2.015,0</td>\n",
       "      <td>2.035,0</td>\n",
       "      <td>2.005,0</td>\n",
       "      <td>6,13M</td>\n",
       "      <td>0,25%</td>\n",
       "    </tr>\n",
       "  </tbody>\n",
       "</table>\n",
       "</div>"
      ],
      "text/plain": [
       "         Fecha   Último Apertura   Máximo   Mínimo     Vol.  % var.\n",
       "676 2007-12-02  1.990,0  1.960,0  2.075,0  1.855,0  150,44M  -1,00%\n",
       "675 2007-12-09  2.015,0  1.985,0  2.080,0  1.970,0   86,75M   1,26%\n",
       "674 2007-12-16  2.015,0  2.020,0  2.040,0  1.920,0   99,91M   0,00%\n",
       "673 2007-12-23  2.020,0  2.015,0  2.045,0  2.000,0   20,62M   0,25%\n",
       "672 2007-12-30  2.025,0  2.015,0  2.035,0  2.005,0    6,13M   0,25%"
      ]
     },
     "execution_count": 5,
     "metadata": {},
     "output_type": "execute_result"
    }
   ],
   "source": [
    "df['Fecha'] = pd.to_datetime(df['Fecha'], format= \"%d.%m.%Y\")\n",
    "df = df.sort_values(by='Fecha', ascending=True)\n",
    "df.head()"
   ]
  },
  {
   "cell_type": "code",
   "execution_count": 6,
   "metadata": {
    "colab": {
     "base_uri": "https://localhost:8080/",
     "height": 206
    },
    "id": "3kzbCyh3Rjdr",
    "outputId": "199674c9-c1bd-4acd-bf75-eafb31af613a"
   },
   "outputs": [
    {
     "data": {
      "text/html": [
       "<div>\n",
       "<style scoped>\n",
       "    .dataframe tbody tr th:only-of-type {\n",
       "        vertical-align: middle;\n",
       "    }\n",
       "\n",
       "    .dataframe tbody tr th {\n",
       "        vertical-align: top;\n",
       "    }\n",
       "\n",
       "    .dataframe thead th {\n",
       "        text-align: right;\n",
       "    }\n",
       "</style>\n",
       "<table border=\"1\" class=\"dataframe\">\n",
       "  <thead>\n",
       "    <tr style=\"text-align: right;\">\n",
       "      <th></th>\n",
       "      <th>Fecha</th>\n",
       "      <th>Último</th>\n",
       "      <th>Apertura</th>\n",
       "      <th>Máximo</th>\n",
       "      <th>Mínimo</th>\n",
       "      <th>Vol.</th>\n",
       "      <th>% var.</th>\n",
       "    </tr>\n",
       "  </thead>\n",
       "  <tbody>\n",
       "    <tr>\n",
       "      <th>676</th>\n",
       "      <td>2007-12-02</td>\n",
       "      <td>1.990,0</td>\n",
       "      <td>2020.0</td>\n",
       "      <td>2.075,0</td>\n",
       "      <td>1.855,0</td>\n",
       "      <td>150,44M</td>\n",
       "      <td>-1,00%</td>\n",
       "    </tr>\n",
       "    <tr>\n",
       "      <th>675</th>\n",
       "      <td>2007-12-09</td>\n",
       "      <td>2.015,0</td>\n",
       "      <td>1870.0</td>\n",
       "      <td>2.080,0</td>\n",
       "      <td>1.970,0</td>\n",
       "      <td>86,75M</td>\n",
       "      <td>1,26%</td>\n",
       "    </tr>\n",
       "    <tr>\n",
       "      <th>674</th>\n",
       "      <td>2007-12-16</td>\n",
       "      <td>2.015,0</td>\n",
       "      <td>1795.0</td>\n",
       "      <td>2.040,0</td>\n",
       "      <td>1.920,0</td>\n",
       "      <td>99,91M</td>\n",
       "      <td>0,00%</td>\n",
       "    </tr>\n",
       "    <tr>\n",
       "      <th>673</th>\n",
       "      <td>2007-12-23</td>\n",
       "      <td>2.020,0</td>\n",
       "      <td>1851.0</td>\n",
       "      <td>2.045,0</td>\n",
       "      <td>2.000,0</td>\n",
       "      <td>20,62M</td>\n",
       "      <td>0,25%</td>\n",
       "    </tr>\n",
       "    <tr>\n",
       "      <th>672</th>\n",
       "      <td>2007-12-30</td>\n",
       "      <td>2.025,0</td>\n",
       "      <td>1871.0</td>\n",
       "      <td>2.035,0</td>\n",
       "      <td>2.005,0</td>\n",
       "      <td>6,13M</td>\n",
       "      <td>0,25%</td>\n",
       "    </tr>\n",
       "  </tbody>\n",
       "</table>\n",
       "</div>"
      ],
      "text/plain": [
       "         Fecha   Último Apertura   Máximo   Mínimo     Vol.  % var.\n",
       "676 2007-12-02  1.990,0   2020.0  2.075,0  1.855,0  150,44M  -1,00%\n",
       "675 2007-12-09  2.015,0   1870.0  2.080,0  1.970,0   86,75M   1,26%\n",
       "674 2007-12-16  2.015,0   1795.0  2.040,0  1.920,0   99,91M   0,00%\n",
       "673 2007-12-23  2.020,0   1851.0  2.045,0  2.000,0   20,62M   0,25%\n",
       "672 2007-12-30  2.025,0   1871.0  2.035,0  2.005,0    6,13M   0,25%"
      ]
     },
     "execution_count": 6,
     "metadata": {},
     "output_type": "execute_result"
    }
   ],
   "source": [
    "df['Apertura']=[df['Apertura'][i].replace(\".\",\"\").replace(\",\",\".\") for i in range(0,len(df['Apertura']))]\n",
    "df.head()"
   ]
  },
  {
   "cell_type": "code",
   "execution_count": 7,
   "metadata": {
    "colab": {
     "base_uri": "https://localhost:8080/"
    },
    "id": "yyW-L-LTQxav",
    "outputId": "164bb51b-7f5c-4761-ba7f-58c0efe3fe78"
   },
   "outputs": [
    {
     "data": {
      "text/plain": [
       "Fecha       datetime64[ns]\n",
       "Último              object\n",
       "Apertura           float64\n",
       "Máximo              object\n",
       "Mínimo              object\n",
       "Vol.                object\n",
       "% var.              object\n",
       "dtype: object"
      ]
     },
     "execution_count": 7,
     "metadata": {},
     "output_type": "execute_result"
    }
   ],
   "source": [
    "df['Apertura']=df['Apertura'].astype(float)\n",
    "df.dtypes"
   ]
  },
  {
   "cell_type": "code",
   "execution_count": 8,
   "metadata": {
    "colab": {
     "base_uri": "https://localhost:8080/",
     "height": 465
    },
    "id": "VRaNTdP51lH4",
    "outputId": "c7a299fc-9b3d-4b69-e7b4-e824a4ca6f9c"
   },
   "outputs": [
    {
     "name": "stdout",
     "output_type": "stream",
     "text": [
      "count     677.000000\n",
      "mean     2887.146381\n",
      "std      1185.054343\n",
      "min       970.000000\n",
      "25%      1985.000000\n",
      "50%      2740.000000\n",
      "75%      3750.000000\n",
      "max      5790.000000\n",
      "Name: Apertura, dtype: float64\n"
     ]
    },
    {
     "data": {
      "image/png": "[encoded data removed]",
      "text/plain": [
       "<Figure size 432x288 with 1 Axes>"
      ]
     },
     "metadata": {
      "needs_background": "light"
     },
     "output_type": "display_data"
    }
   ],
   "source": [
    "df = df.set_index('Fecha')\n",
    "df.index.freq=\"W\"\n",
    "#df.index = pd.DatetimeIndex(df.index)\n",
    "\n",
    "plt.plot(df[\"Apertura\"])\n",
    "plt.title('Apertura de acciones de Ecopetrol')\n",
    "print(df[\"Apertura\"].describe())"
   ]
  },
  {
   "cell_type": "markdown",
   "metadata": {
    "id": "5c21XZiOZ9Fd"
   },
   "source": [
    "Por un lado podemos ver que existe tendencia y varianza no constante en los datos, sin embargo antes de correguir estos aspectos veremos si se necesita corregir la varianza marginal no constante."
   ]
  },
  {
   "cell_type": "code",
   "execution_count": 9,
   "metadata": {},
   "outputs": [
    {
     "data": {
      "text/html": [
       "<div>\n",
       "<style scoped>\n",
       "    .dataframe tbody tr th:only-of-type {\n",
       "        vertical-align: middle;\n",
       "    }\n",
       "\n",
       "    .dataframe tbody tr th {\n",
       "        vertical-align: top;\n",
       "    }\n",
       "\n",
       "    .dataframe thead th {\n",
       "        text-align: right;\n",
       "    }\n",
       "</style>\n",
       "<table border=\"1\" class=\"dataframe\">\n",
       "  <thead>\n",
       "    <tr style=\"text-align: right;\">\n",
       "      <th></th>\n",
       "      <th>Último</th>\n",
       "      <th>Apertura</th>\n",
       "      <th>Máximo</th>\n",
       "      <th>Mínimo</th>\n",
       "      <th>Vol.</th>\n",
       "      <th>% var.</th>\n",
       "    </tr>\n",
       "    <tr>\n",
       "      <th>Fecha</th>\n",
       "      <th></th>\n",
       "      <th></th>\n",
       "      <th></th>\n",
       "      <th></th>\n",
       "      <th></th>\n",
       "      <th></th>\n",
       "    </tr>\n",
       "  </thead>\n",
       "  <tbody>\n",
       "    <tr>\n",
       "      <th>2007-12-02</th>\n",
       "      <td>1.990,0</td>\n",
       "      <td>2020.0</td>\n",
       "      <td>2.075,0</td>\n",
       "      <td>1.855,0</td>\n",
       "      <td>150,44M</td>\n",
       "      <td>-1,00%</td>\n",
       "    </tr>\n",
       "    <tr>\n",
       "      <th>2007-12-09</th>\n",
       "      <td>2.015,0</td>\n",
       "      <td>1870.0</td>\n",
       "      <td>2.080,0</td>\n",
       "      <td>1.970,0</td>\n",
       "      <td>86,75M</td>\n",
       "      <td>1,26%</td>\n",
       "    </tr>\n",
       "    <tr>\n",
       "      <th>2007-12-16</th>\n",
       "      <td>2.015,0</td>\n",
       "      <td>1795.0</td>\n",
       "      <td>2.040,0</td>\n",
       "      <td>1.920,0</td>\n",
       "      <td>99,91M</td>\n",
       "      <td>0,00%</td>\n",
       "    </tr>\n",
       "    <tr>\n",
       "      <th>2007-12-23</th>\n",
       "      <td>2.020,0</td>\n",
       "      <td>1851.0</td>\n",
       "      <td>2.045,0</td>\n",
       "      <td>2.000,0</td>\n",
       "      <td>20,62M</td>\n",
       "      <td>0,25%</td>\n",
       "    </tr>\n",
       "    <tr>\n",
       "      <th>2007-12-30</th>\n",
       "      <td>2.025,0</td>\n",
       "      <td>1871.0</td>\n",
       "      <td>2.035,0</td>\n",
       "      <td>2.005,0</td>\n",
       "      <td>6,13M</td>\n",
       "      <td>0,25%</td>\n",
       "    </tr>\n",
       "  </tbody>\n",
       "</table>\n",
       "</div>"
      ],
      "text/plain": [
       "             Último  Apertura   Máximo   Mínimo     Vol.  % var.\n",
       "Fecha                                                           \n",
       "2007-12-02  1.990,0    2020.0  2.075,0  1.855,0  150,44M  -1,00%\n",
       "2007-12-09  2.015,0    1870.0  2.080,0  1.970,0   86,75M   1,26%\n",
       "2007-12-16  2.015,0    1795.0  2.040,0  1.920,0   99,91M   0,00%\n",
       "2007-12-23  2.020,0    1851.0  2.045,0  2.000,0   20,62M   0,25%\n",
       "2007-12-30  2.025,0    1871.0  2.035,0  2.005,0    6,13M   0,25%"
      ]
     },
     "execution_count": 9,
     "metadata": {},
     "output_type": "execute_result"
    }
   ],
   "source": [
    "df.head()"
   ]
  },
  {
   "cell_type": "markdown",
   "metadata": {
    "id": "Q5q9WJDla5Ry"
   },
   "source": [
    "#### Tranformación Box-Cox"
   ]
  },
  {
   "cell_type": "code",
   "execution_count": 10,
   "metadata": {
    "colab": {
     "base_uri": "https://localhost:8080/"
    },
    "id": "nIwEzf1BbKB1",
    "outputId": "e94f5ab0-42f1-4b1d-e7b5-537b1d2b404a"
   },
   "outputs": [],
   "source": [
    "from scipy.stats import boxcox\n",
    "#Apertura_transf, lamda = sp.stats.boxcox(Apertura)\n",
    "#lamda\n",
    "#Apertura_transf=pd.DataFrame(Apertura_transf)\n",
    "#Apertura_transf=Apertura_transf.set_index(Apertura.index)\n",
    "df[\"Apertura_transf\"], Lamb=boxcox(df[\"Apertura\"])"
   ]
  },
  {
   "cell_type": "code",
   "execution_count": 11,
   "metadata": {},
   "outputs": [
    {
     "name": "stdout",
     "output_type": "stream",
     "text": [
      "Fecha\n",
      "2007-12-02    25.021686\n",
      "2007-12-09    24.432238\n",
      "2007-12-16    24.124455\n",
      "2007-12-23    24.355133\n",
      "2007-12-30    24.436280\n",
      "                ...    \n",
      "2020-10-18    25.002563\n",
      "2020-10-25    25.002563\n",
      "2020-11-01    25.021686\n",
      "2020-11-08    24.887088\n",
      "2020-11-15    24.789880\n",
      "Freq: W-SUN, Name: Apertura_transf, Length: 677, dtype: float64\n",
      "0.2685190181761861\n"
     ]
    }
   ],
   "source": [
    "print(df[\"Apertura_transf\"])\n",
    "print(Lamb)"
   ]
  },
  {
   "cell_type": "code",
   "execution_count": 12,
   "metadata": {
    "colab": {
     "base_uri": "https://localhost:8080/",
     "height": 299
    },
    "id": "h4r5LHAqiTE-",
    "outputId": "f9876ca0-bc97-43e2-c235-4e44f13125c2"
   },
   "outputs": [
    {
     "data": {
      "text/plain": [
       "Text(0.5, 1.0, 'Apertura de acciones de Ecopetrol con transformacion Box Cox')"
      ]
     },
     "execution_count": 12,
     "metadata": {},
     "output_type": "execute_result"
    },
    {
     "data": {
      "image/png": "[encoded data removed]",
      "text/plain": [
       "<Figure size 432x288 with 1 Axes>"
      ]
     },
     "metadata": {
      "needs_background": "light"
     },
     "output_type": "display_data"
    }
   ],
   "source": [
    "plt.plot(df[\"Apertura_transf\"])\n",
    "plt.title('Apertura de acciones de Ecopetrol con transformacion Box Cox')"
   ]
  },
  {
   "cell_type": "code",
   "execution_count": 13,
   "metadata": {
    "colab": {
     "base_uri": "https://localhost:8080/",
     "height": 313
    },
    "id": "J-zUP4IXd2kG",
    "outputId": "47b07265-d132-41ac-89f2-557be8e61e7a"
   },
   "outputs": [
    {
     "data": {
      "text/plain": [
       "Text(0.5, 1.0, 'Despues de la transformacion Box-Cox')"
      ]
     },
     "execution_count": 13,
     "metadata": {},
     "output_type": "execute_result"
    },
    {
     "data": {
      "image/png": "[encoded data removed]",
      "text/plain": [
       "<Figure size 432x288 with 2 Axes>"
      ]
     },
     "metadata": {
      "needs_background": "light"
     },
     "output_type": "display_data"
    }
   ],
   "source": [
    "from scipy.stats import probplot, norm\n",
    "\n",
    "fig = plt.figure()\n",
    "ax1 = fig.add_subplot(211)\n",
    "prob = probplot(df[\"Apertura\"], dist=norm, plot=ax1)\n",
    "ax1.set_title('Probplot against normal distribution')\n",
    "\n",
    "ax2 = fig.add_subplot(212)\n",
    "prob = probplot(df[\"Apertura_transf\"], dist=norm, plot=ax2)\n",
    "ax2.set_title('Despues de la transformacion Box-Cox')"
   ]
  },
  {
   "cell_type": "markdown",
   "metadata": {
    "id": "MfXdZVugikH5"
   },
   "source": [
    "La transformación box cox parace no tener un gran efecto en los datos."
   ]
  },
  {
   "cell_type": "markdown",
   "metadata": {
    "id": "H3GK-WSjjEwZ"
   },
   "source": [
    "#### Autocorrelacion"
   ]
  },
  {
   "cell_type": "code",
   "execution_count": 14,
   "metadata": {
    "colab": {
     "base_uri": "https://localhost:8080/",
     "height": 545
    },
    "id": "V4qelU1yfYvw",
    "outputId": "9c3dfdd1-faa8-44a1-9dcb-78d19e9684a4"
   },
   "outputs": [
    {
     "name": "stderr",
     "output_type": "stream",
     "text": [
      "C:\\Users\\OLEG_\\Anaconda3\\envs\\tensorflow\\lib\\site-packages\\ipykernel_launcher.py:7: FutureWarning: the 'unbiased'' keyword is deprecated, use 'adjusted' instead\n",
      "  import sys\n"
     ]
    },
    {
     "data": {
      "image/png": "[encoded data removed]",
      "text/plain": [
       "<Figure size 432x288 with 1 Axes>"
      ]
     },
     "metadata": {
      "needs_background": "light"
     },
     "output_type": "display_data"
    },
    {
     "data": {
      "image/png": "[encoded data removed]",
      "text/plain": [
       "<Figure size 432x288 with 1 Axes>"
      ]
     },
     "metadata": {
      "needs_background": "light"
     },
     "output_type": "display_data"
    }
   ],
   "source": [
    "from statsmodels.tsa.stattools import acf\n",
    "from statsmodels.tsa.stattools import pacf\n",
    "from statsmodels.graphics.tsaplots import plot_acf\n",
    "from statsmodels.graphics.tsaplots import plot_pacf\n",
    "\n",
    "graph1=plot_pacf(df[\"Apertura_transf\"],lags=30,method='ldbiased')###Note que parece un AR(2)\n",
    "graph2=plot_acf(df[\"Apertura_transf\"],lags=60,unbiased=False)"
   ]
  },
  {
   "cell_type": "code",
   "execution_count": 15,
   "metadata": {},
   "outputs": [
    {
     "name": "stdout",
     "output_type": "stream",
     "text": [
      "ADF Statistic: -0.176642\n",
      "P-value: 0.622507\n",
      "\t1%: -2.569\n",
      "\t5%: -1.941\n",
      "\t10%: -1.616\n"
     ]
    }
   ],
   "source": [
    "from statsmodels.tsa.stattools import adfuller\n",
    "resultadoadf=adfuller(df[\"Apertura_transf\"],regression=\"nc\") #Se debe elegir un lagmax grande y ver si el valor t de el último coeficiente de la variable\n",
    "print('ADF Statistic: %f' % resultadoadf[0])\n",
    "print('P-value: %f' % resultadoadf[1])\n",
    "for key, value in resultadoadf[4].items():\n",
    "    print('\\t%s: %.3f' % (key, value))\n",
    "###Al no rechazarse la hipótesis nula implica que existe raíz unitaria."
   ]
  },
  {
   "cell_type": "code",
   "execution_count": 16,
   "metadata": {},
   "outputs": [
    {
     "name": "stdout",
     "output_type": "stream",
     "text": [
      "P_VALOR: 0.6225073151487817\n"
     ]
    },
    {
     "data": {
      "text/html": [
       "<table class=\"simpletable\">\n",
       "<caption>OLS Regression Results</caption>\n",
       "<tr>\n",
       "  <th>Dep. Variable:</th>            <td>y</td>        <th>  R-squared (uncentered):</th>      <td>   0.031</td>\n",
       "</tr>\n",
       "<tr>\n",
       "  <th>Model:</th>                   <td>OLS</td>       <th>  Adj. R-squared (uncentered):</th> <td>   0.022</td>\n",
       "</tr>\n",
       "<tr>\n",
       "  <th>Method:</th>             <td>Least Squares</td>  <th>  F-statistic:       </th>          <td>   3.572</td>\n",
       "</tr>\n",
       "<tr>\n",
       "  <th>Date:</th>             <td>Tue, 08 Dec 2020</td> <th>  Prob (F-statistic):</th>           <td>0.00172</td>\n",
       "</tr>\n",
       "<tr>\n",
       "  <th>Time:</th>                 <td>21:34:45</td>     <th>  Log-Likelihood:    </th>          <td> -283.55</td>\n",
       "</tr>\n",
       "<tr>\n",
       "  <th>No. Observations:</th>      <td>   671</td>      <th>  AIC:               </th>          <td>   579.1</td>\n",
       "</tr>\n",
       "<tr>\n",
       "  <th>Df Residuals:</th>          <td>   665</td>      <th>  BIC:               </th>          <td>   606.2</td>\n",
       "</tr>\n",
       "<tr>\n",
       "  <th>Df Model:</th>              <td>     6</td>      <th>                     </th>              <td> </td>   \n",
       "</tr>\n",
       "<tr>\n",
       "  <th>Covariance Type:</th>      <td>nonrobust</td>    <th>                     </th>              <td> </td>   \n",
       "</tr>\n",
       "</table>\n",
       "<table class=\"simpletable\">\n",
       "<tr>\n",
       "   <td></td>     <th>coef</th>     <th>std err</th>      <th>t</th>      <th>P>|t|</th>  <th>[0.025</th>    <th>0.975]</th>  \n",
       "</tr>\n",
       "<tr>\n",
       "  <th>x1</th> <td>-9.155e-05</td> <td>    0.001</td> <td>   -0.177</td> <td> 0.860</td> <td>   -0.001</td> <td>    0.001</td>\n",
       "</tr>\n",
       "<tr>\n",
       "  <th>x2</th> <td>    0.1121</td> <td>    0.039</td> <td>    2.902</td> <td> 0.004</td> <td>    0.036</td> <td>    0.188</td>\n",
       "</tr>\n",
       "<tr>\n",
       "  <th>x3</th> <td>   -0.0558</td> <td>    0.039</td> <td>   -1.436</td> <td> 0.151</td> <td>   -0.132</td> <td>    0.020</td>\n",
       "</tr>\n",
       "<tr>\n",
       "  <th>x4</th> <td>   -0.0697</td> <td>    0.039</td> <td>   -1.795</td> <td> 0.073</td> <td>   -0.146</td> <td>    0.007</td>\n",
       "</tr>\n",
       "<tr>\n",
       "  <th>x5</th> <td>    0.0413</td> <td>    0.039</td> <td>    1.064</td> <td> 0.288</td> <td>   -0.035</td> <td>    0.118</td>\n",
       "</tr>\n",
       "<tr>\n",
       "  <th>x6</th> <td>    0.0819</td> <td>    0.039</td> <td>    2.125</td> <td> 0.034</td> <td>    0.006</td> <td>    0.158</td>\n",
       "</tr>\n",
       "</table>\n",
       "<table class=\"simpletable\">\n",
       "<tr>\n",
       "  <th>Omnibus:</th>       <td>243.774</td> <th>  Durbin-Watson:     </th> <td>   2.002</td>\n",
       "</tr>\n",
       "<tr>\n",
       "  <th>Prob(Omnibus):</th> <td> 0.000</td>  <th>  Jarque-Bera (JB):  </th> <td>3642.058</td>\n",
       "</tr>\n",
       "<tr>\n",
       "  <th>Skew:</th>          <td> 1.198</td>  <th>  Prob(JB):          </th> <td>    0.00</td>\n",
       "</tr>\n",
       "<tr>\n",
       "  <th>Kurtosis:</th>      <td>14.159</td>  <th>  Cond. No.          </th> <td>    82.9</td>\n",
       "</tr>\n",
       "</table><br/><br/>Notes:<br/>[1] R² is computed without centering (uncentered) since the model does not contain a constant.<br/>[2] Standard Errors assume that the covariance matrix of the errors is correctly specified."
      ],
      "text/plain": [
       "<class 'statsmodels.iolib.summary.Summary'>\n",
       "\"\"\"\n",
       "                                 OLS Regression Results                                \n",
       "=======================================================================================\n",
       "Dep. Variable:                      y   R-squared (uncentered):                   0.031\n",
       "Model:                            OLS   Adj. R-squared (uncentered):              0.022\n",
       "Method:                 Least Squares   F-statistic:                              3.572\n",
       "Date:                Tue, 08 Dec 2020   Prob (F-statistic):                     0.00172\n",
       "Time:                        21:34:45   Log-Likelihood:                         -283.55\n",
       "No. Observations:                 671   AIC:                                      579.1\n",
       "Df Residuals:                     665   BIC:                                      606.2\n",
       "Df Model:                           6                                                  \n",
       "Covariance Type:            nonrobust                                                  \n",
       "==============================================================================\n",
       "                 coef    std err          t      P>|t|      [0.025      0.975]\n",
       "------------------------------------------------------------------------------\n",
       "x1         -9.155e-05      0.001     -0.177      0.860      -0.001       0.001\n",
       "x2             0.1121      0.039      2.902      0.004       0.036       0.188\n",
       "x3            -0.0558      0.039     -1.436      0.151      -0.132       0.020\n",
       "x4            -0.0697      0.039     -1.795      0.073      -0.146       0.007\n",
       "x5             0.0413      0.039      1.064      0.288      -0.035       0.118\n",
       "x6             0.0819      0.039      2.125      0.034       0.006       0.158\n",
       "==============================================================================\n",
       "Omnibus:                      243.774   Durbin-Watson:                   2.002\n",
       "Prob(Omnibus):                  0.000   Jarque-Bera (JB):             3642.058\n",
       "Skew:                           1.198   Prob(JB):                         0.00\n",
       "Kurtosis:                      14.159   Cond. No.                         82.9\n",
       "==============================================================================\n",
       "\n",
       "Notes:\n",
       "[1] R² is computed without centering (uncentered) since the model does not contain a constant.\n",
       "[2] Standard Errors assume that the covariance matrix of the errors is correctly specified.\n",
       "\"\"\""
      ]
     },
     "execution_count": 16,
     "metadata": {},
     "output_type": "execute_result"
    }
   ],
   "source": [
    "adfstat, pvalue, critvalues, resstore=adfuller(df[\"Apertura_transf\"],regression=\"nc\",maxlag=12,store=True,regresults=True)####maxlag es importante\n",
    "print(\"P_VALOR:\",pvalue)\n",
    "resstore.resols.summary()"
   ]
  },
  {
   "cell_type": "markdown",
   "metadata": {
    "id": "vFdbBgAFf7U5"
   },
   "source": [
    "Podemos ver que existen señales de presencia de raices unitarias, procedemos a eliminar la tendencia diferenciando la serie."
   ]
  },
  {
   "cell_type": "code",
   "execution_count": 17,
   "metadata": {
    "colab": {
     "base_uri": "https://localhost:8080/",
     "height": 287
    },
    "id": "jpq-1FdRjNb0",
    "outputId": "19b9f36f-ce63-43d9-ba64-b5243b21a6af"
   },
   "outputs": [
    {
     "data": {
      "text/plain": [
       "[<matplotlib.lines.Line2D at 0x18a535ee088>]"
      ]
     },
     "execution_count": 17,
     "metadata": {},
     "output_type": "execute_result"
    },
    {
     "data": {
      "image/png": "[encoded data removed]",
      "text/plain": [
       "<Figure size 432x288 with 1 Axes>"
      ]
     },
     "metadata": {
      "needs_background": "light"
     },
     "output_type": "display_data"
    }
   ],
   "source": [
    "df[\"Apertura_diff\"]=df[\"Apertura_transf\"].diff(periods=1)[1:] #orden de intregacion n\n",
    "plt.plot(df[\"Apertura_diff\"])"
   ]
  },
  {
   "cell_type": "code",
   "execution_count": 18,
   "metadata": {},
   "outputs": [
    {
     "name": "stdout",
     "output_type": "stream",
     "text": [
      "             Último  Apertura   Máximo   Mínimo     Vol.  % var.  \\\n",
      "Fecha                                                              \n",
      "2007-12-02  1.990,0    2020.0  2.075,0  1.855,0  150,44M  -1,00%   \n",
      "2007-12-09  2.015,0    1870.0  2.080,0  1.970,0   86,75M   1,26%   \n",
      "2007-12-16  2.015,0    1795.0  2.040,0  1.920,0   99,91M   0,00%   \n",
      "2007-12-23  2.020,0    1851.0  2.045,0  2.000,0   20,62M   0,25%   \n",
      "2007-12-30  2.025,0    1871.0  2.035,0  2.005,0    6,13M   0,25%   \n",
      "...             ...       ...      ...      ...      ...     ...   \n",
      "2020-10-18  1.860,0    2015.0  1.916,0  1.837,0   34,59M  -1,06%   \n",
      "2020-10-25  1.791,0    2015.0  1.851,0  1.615,0   58,85M  -3,71%   \n",
      "2020-11-01  1.833,0    2020.0  1.893,0  1.795,0   27,81M   2,35%   \n",
      "2020-11-08  2.000,0    1985.0  2.025,0  1.870,0   55,42M   9,11%   \n",
      "2020-11-15  2.145,0    1960.0  2.159,0  2.020,0    8,01M   7,25%   \n",
      "\n",
      "            Apertura_transf  Apertura_diff  \n",
      "Fecha                                       \n",
      "2007-12-02        25.021686            NaN  \n",
      "2007-12-09        24.432238      -0.589448  \n",
      "2007-12-16        24.124455      -0.307783  \n",
      "2007-12-23        24.355133       0.230678  \n",
      "2007-12-30        24.436280       0.081148  \n",
      "...                     ...            ...  \n",
      "2020-10-18        25.002563      -0.019123  \n",
      "2020-10-25        25.002563       0.000000  \n",
      "2020-11-01        25.021686       0.019123  \n",
      "2020-11-08        24.887088      -0.134598  \n",
      "2020-11-15        24.789880      -0.097208  \n",
      "\n",
      "[677 rows x 8 columns]\n"
     ]
    }
   ],
   "source": [
    "print(df)"
   ]
  },
  {
   "cell_type": "markdown",
   "metadata": {
    "id": "00VGISdujfDa"
   },
   "source": [
    "con solo una difereniaciacion de orden 1 es suficiente, procedemos a detectar si hay estacionalidad."
   ]
  },
  {
   "cell_type": "code",
   "execution_count": 19,
   "metadata": {
    "colab": {
     "base_uri": "https://localhost:8080/",
     "height": 545
    },
    "id": "qlHP6EgnjYcw",
    "outputId": "fda45eff-46ae-4fa2-8155-d83553f734cf"
   },
   "outputs": [
    {
     "name": "stderr",
     "output_type": "stream",
     "text": [
      "C:\\Users\\OLEG_\\Anaconda3\\envs\\tensorflow\\lib\\site-packages\\ipykernel_launcher.py:2: FutureWarning: the 'unbiased'' keyword is deprecated, use 'adjusted' instead\n",
      "  \n"
     ]
    },
    {
     "data": {
      "image/png": "[encoded data removed]",
      "text/plain": [
       "<Figure size 432x288 with 1 Axes>"
      ]
     },
     "metadata": {
      "needs_background": "light"
     },
     "output_type": "display_data"
    },
    {
     "data": {
      "image/png": "[encoded data removed]",
      "text/plain": [
       "<Figure size 432x288 with 1 Axes>"
      ]
     },
     "metadata": {
      "needs_background": "light"
     },
     "output_type": "display_data"
    }
   ],
   "source": [
    "graph1=plot_pacf(df[\"Apertura_diff\"][1:],lags=30,method='ldbiased')###Note que parece un AR(2)\n",
    "graph2=plot_acf(df[\"Apertura_diff\"][1:],lags=60,unbiased=False)"
   ]
  },
  {
   "cell_type": "code",
   "execution_count": 20,
   "metadata": {},
   "outputs": [
    {
     "name": "stdout",
     "output_type": "stream",
     "text": [
      "ADF Statistic: -10.698583\n",
      "P-value: 0.000000\n",
      "\t1%: -2.569\n",
      "\t5%: -1.941\n",
      "\t10%: -1.616\n"
     ]
    }
   ],
   "source": [
    "from statsmodels.tsa.stattools import adfuller\n",
    "resultadoadf=adfuller(df[\"Apertura_diff\"][1:],regression=\"nc\") #Se debe elegir un lagmax grande y ver si el valor t de el último coeficiente de la variable\n",
    "print('ADF Statistic: %f' % resultadoadf[0])\n",
    "print('P-value: %f' % resultadoadf[1])\n",
    "for key, value in resultadoadf[4].items():\n",
    "    print('\\t%s: %.3f' % (key, value))\n",
    "###Al no rechazarse la hipótesis nula implica que existe raíz unitaria."
   ]
  },
  {
   "cell_type": "markdown",
   "metadata": {
    "id": "6dg1B2eIkDaB"
   },
   "source": [
    "No hay indicios de presencia de estacionalidad en la serie con las transformaciones hechas hasta ahora."
   ]
  },
  {
   "cell_type": "code",
   "execution_count": 21,
   "metadata": {
    "id": "0k5jXf9RlFKA"
   },
   "outputs": [
    {
     "data": {
      "text/plain": [
       "Fecha\n",
       "2020-10-18    25.002563\n",
       "2020-10-25    25.002563\n",
       "2020-11-01    25.021686\n",
       "2020-11-08    24.887088\n",
       "2020-11-15    24.789880\n",
       "Freq: W-SUN, Name: Apertura_transf, dtype: float64"
      ]
     },
     "execution_count": 21,
     "metadata": {},
     "output_type": "execute_result"
    }
   ],
   "source": [
    "### gráficos para verificar ciclos\n",
    "\n",
    "## AR(2)\n",
    "\n",
    "# ARIMA\n",
    "import statsmodels.api as smapi\n",
    "import seaborn\n",
    "\n",
    "df[\"Apertura_transf\"][1:].tail()"
   ]
  },
  {
   "cell_type": "code",
   "execution_count": 22,
   "metadata": {},
   "outputs": [
    {
     "ename": "ValueError",
     "evalue": "Expected frequency W-SUN. Got M",
     "output_type": "error",
     "traceback": [
      "\u001b[1;31m---------------------------------------------------------------------------\u001b[0m",
      "\u001b[1;31mValueError\u001b[0m                                Traceback (most recent call last)",
      "\u001b[1;32m<ipython-input-22-3b090b534a72>\u001b[0m in \u001b[0;36m<module>\u001b[1;34m\u001b[0m\n\u001b[0;32m      1\u001b[0m \u001b[0mplt\u001b[0m\u001b[1;33m.\u001b[0m\u001b[0mplot\u001b[0m\u001b[1;33m(\u001b[0m\u001b[0mdf\u001b[0m\u001b[1;33m[\u001b[0m\u001b[1;34m\"Apertura_transf\"\u001b[0m\u001b[1;33m]\u001b[0m\u001b[1;33m[\u001b[0m\u001b[1;36m1\u001b[0m\u001b[1;33m:\u001b[0m\u001b[1;33m]\u001b[0m\u001b[1;33m)\u001b[0m\u001b[1;33m\u001b[0m\u001b[1;33m\u001b[0m\u001b[0m\n\u001b[1;32m----> 2\u001b[1;33m \u001b[0mfig\u001b[0m \u001b[1;33m=\u001b[0m \u001b[0msmapi\u001b[0m\u001b[1;33m.\u001b[0m\u001b[0mgraphics\u001b[0m\u001b[1;33m.\u001b[0m\u001b[0mtsa\u001b[0m\u001b[1;33m.\u001b[0m\u001b[0mmonth_plot\u001b[0m\u001b[1;33m(\u001b[0m\u001b[0mdf\u001b[0m\u001b[1;33m[\u001b[0m\u001b[1;34m\"Apertura_diff\"\u001b[0m\u001b[1;33m]\u001b[0m\u001b[1;33m[\u001b[0m\u001b[1;36m1\u001b[0m\u001b[1;33m:\u001b[0m\u001b[1;33m]\u001b[0m\u001b[1;33m)\u001b[0m\u001b[1;33m\u001b[0m\u001b[1;33m\u001b[0m\u001b[0m\n\u001b[0m",
      "\u001b[1;32m~\\Anaconda3\\envs\\tensorflow\\lib\\site-packages\\statsmodels\\graphics\\tsaplots.py\u001b[0m in \u001b[0;36mmonth_plot\u001b[1;34m(x, dates, ylabel, ax)\u001b[0m\n\u001b[0;32m    404\u001b[0m         \u001b[1;32mfrom\u001b[0m \u001b[0mstatsmodels\u001b[0m\u001b[1;33m.\u001b[0m\u001b[0mtools\u001b[0m\u001b[1;33m.\u001b[0m\u001b[0mdata\u001b[0m \u001b[1;32mimport\u001b[0m \u001b[0m_check_period_index\u001b[0m\u001b[1;33m\u001b[0m\u001b[1;33m\u001b[0m\u001b[0m\n\u001b[0;32m    405\u001b[0m \u001b[1;33m\u001b[0m\u001b[0m\n\u001b[1;32m--> 406\u001b[1;33m         \u001b[0m_check_period_index\u001b[0m\u001b[1;33m(\u001b[0m\u001b[0mx\u001b[0m\u001b[1;33m,\u001b[0m \u001b[0mfreq\u001b[0m\u001b[1;33m=\u001b[0m\u001b[1;34m\"M\"\u001b[0m\u001b[1;33m)\u001b[0m\u001b[1;33m\u001b[0m\u001b[1;33m\u001b[0m\u001b[0m\n\u001b[0m\u001b[0;32m    407\u001b[0m     \u001b[1;32melse\u001b[0m\u001b[1;33m:\u001b[0m\u001b[1;33m\u001b[0m\u001b[1;33m\u001b[0m\u001b[0m\n\u001b[0;32m    408\u001b[0m         \u001b[0mx\u001b[0m \u001b[1;33m=\u001b[0m \u001b[0mpd\u001b[0m\u001b[1;33m.\u001b[0m\u001b[0mSeries\u001b[0m\u001b[1;33m(\u001b[0m\u001b[0mx\u001b[0m\u001b[1;33m,\u001b[0m \u001b[0mindex\u001b[0m\u001b[1;33m=\u001b[0m\u001b[0mpd\u001b[0m\u001b[1;33m.\u001b[0m\u001b[0mPeriodIndex\u001b[0m\u001b[1;33m(\u001b[0m\u001b[0mdates\u001b[0m\u001b[1;33m,\u001b[0m \u001b[0mfreq\u001b[0m\u001b[1;33m=\u001b[0m\u001b[1;34m\"M\"\u001b[0m\u001b[1;33m)\u001b[0m\u001b[1;33m)\u001b[0m\u001b[1;33m\u001b[0m\u001b[1;33m\u001b[0m\u001b[0m\n",
      "\u001b[1;32m~\\Anaconda3\\envs\\tensorflow\\lib\\site-packages\\statsmodels\\tools\\data.py\u001b[0m in \u001b[0;36m_check_period_index\u001b[1;34m(x, freq)\u001b[0m\n\u001b[0;32m     17\u001b[0m     \u001b[1;32mif\u001b[0m \u001b[1;32mnot\u001b[0m \u001b[0minferred_freq\u001b[0m\u001b[1;33m.\u001b[0m\u001b[0mstartswith\u001b[0m\u001b[1;33m(\u001b[0m\u001b[0mfreq\u001b[0m\u001b[1;33m)\u001b[0m\u001b[1;33m:\u001b[0m\u001b[1;33m\u001b[0m\u001b[1;33m\u001b[0m\u001b[0m\n\u001b[0;32m     18\u001b[0m         raise ValueError(\"Expected frequency {}. Got {}\".format(inferred_freq,\n\u001b[1;32m---> 19\u001b[1;33m                                                                 freq))\n\u001b[0m\u001b[0;32m     20\u001b[0m \u001b[1;33m\u001b[0m\u001b[0m\n\u001b[0;32m     21\u001b[0m \u001b[1;33m\u001b[0m\u001b[0m\n",
      "\u001b[1;31mValueError\u001b[0m: Expected frequency W-SUN. Got M"
     ]
    },
    {
     "data": {
      "image/png": "[encoded data removed]",
      "text/plain": [
       "<Figure size 432x288 with 1 Axes>"
      ]
     },
     "metadata": {
      "needs_background": "light"
     },
     "output_type": "display_data"
    }
   ],
   "source": [
    "plt.plot(df[\"Apertura_transf\"][1:])\n",
    "fig = smapi.graphics.tsa.month_plot(df[\"Apertura_diff\"][1:])"
   ]
  },
  {
   "cell_type": "code",
   "execution_count": 23,
   "metadata": {},
   "outputs": [],
   "source": [
    "X_train=df[\"Apertura_transf\"][:int(len(df[\"Apertura_transf\"])*0.95)]\n",
    "X_test=df[\"Apertura_transf\"][int(len(df[\"Apertura_transf\"])*0.95):]"
   ]
  },
  {
   "cell_type": "code",
   "execution_count": 24,
   "metadata": {},
   "outputs": [
    {
     "data": {
      "text/plain": [
       "Fecha\n",
       "2020-03-29    26.616779\n",
       "2020-04-05    27.116709\n",
       "2020-04-12    27.335423\n",
       "2020-04-19    27.132472\n",
       "2020-04-26    27.100924\n",
       "Freq: W-SUN, Name: Apertura_transf, dtype: float64"
      ]
     },
     "execution_count": 24,
     "metadata": {},
     "output_type": "execute_result"
    }
   ],
   "source": [
    "X_train.head()\n",
    "X_test.head()"
   ]
  },
  {
   "cell_type": "code",
   "execution_count": 25,
   "metadata": {},
   "outputs": [
    {
     "data": {
      "text/html": [
       "<table class=\"simpletable\">\n",
       "<caption>SARIMAX Results</caption>\n",
       "<tr>\n",
       "  <th>Dep. Variable:</th>    <td>Apertura_transf</td> <th>  No. Observations:  </th>    <td>643</td>  \n",
       "</tr>\n",
       "<tr>\n",
       "  <th>Model:</th>           <td>SARIMAX(3, 1, 4)</td> <th>  Log Likelihood     </th> <td>-261.814</td>\n",
       "</tr>\n",
       "<tr>\n",
       "  <th>Date:</th>            <td>Tue, 08 Dec 2020</td> <th>  AIC                </th>  <td>539.627</td>\n",
       "</tr>\n",
       "<tr>\n",
       "  <th>Time:</th>                <td>21:34:55</td>     <th>  BIC                </th>  <td>575.344</td>\n",
       "</tr>\n",
       "<tr>\n",
       "  <th>Sample:</th>             <td>12-02-2007</td>    <th>  HQIC               </th>  <td>553.489</td>\n",
       "</tr>\n",
       "<tr>\n",
       "  <th></th>                   <td>- 03-22-2020</td>   <th>                     </th>     <td> </td>   \n",
       "</tr>\n",
       "<tr>\n",
       "  <th>Covariance Type:</th>        <td>opg</td>       <th>                     </th>     <td> </td>   \n",
       "</tr>\n",
       "</table>\n",
       "<table class=\"simpletable\">\n",
       "<tr>\n",
       "     <td></td>       <th>coef</th>     <th>std err</th>      <th>z</th>      <th>P>|z|</th>  <th>[0.025</th>    <th>0.975]</th>  \n",
       "</tr>\n",
       "<tr>\n",
       "  <th>ar.L1</th>  <td>    1.1348</td> <td>    0.367</td> <td>    3.092</td> <td> 0.002</td> <td>    0.415</td> <td>    1.854</td>\n",
       "</tr>\n",
       "<tr>\n",
       "  <th>ar.L2</th>  <td>   -0.5385</td> <td>    0.504</td> <td>   -1.069</td> <td> 0.285</td> <td>   -1.526</td> <td>    0.449</td>\n",
       "</tr>\n",
       "<tr>\n",
       "  <th>ar.L3</th>  <td>    0.0748</td> <td>    0.338</td> <td>    0.221</td> <td> 0.825</td> <td>   -0.587</td> <td>    0.737</td>\n",
       "</tr>\n",
       "<tr>\n",
       "  <th>ma.L1</th>  <td>   -1.0163</td> <td>    0.374</td> <td>   -2.714</td> <td> 0.007</td> <td>   -1.750</td> <td>   -0.282</td>\n",
       "</tr>\n",
       "<tr>\n",
       "  <th>ma.L2</th>  <td>    0.3518</td> <td>    0.470</td> <td>    0.748</td> <td> 0.454</td> <td>   -0.570</td> <td>    1.273</td>\n",
       "</tr>\n",
       "<tr>\n",
       "  <th>ma.L3</th>  <td>   -0.0500</td> <td>    0.265</td> <td>   -0.189</td> <td> 0.850</td> <td>   -0.569</td> <td>    0.469</td>\n",
       "</tr>\n",
       "<tr>\n",
       "  <th>ma.L4</th>  <td>    0.1080</td> <td>    0.075</td> <td>    1.448</td> <td> 0.148</td> <td>   -0.038</td> <td>    0.254</td>\n",
       "</tr>\n",
       "<tr>\n",
       "  <th>sigma2</th> <td>    0.1323</td> <td>    0.004</td> <td>   32.057</td> <td> 0.000</td> <td>    0.124</td> <td>    0.140</td>\n",
       "</tr>\n",
       "</table>\n",
       "<table class=\"simpletable\">\n",
       "<tr>\n",
       "  <th>Ljung-Box (L1) (Q):</th>     <td>0.00</td> <th>  Jarque-Bera (JB):  </th> <td>3711.72</td>\n",
       "</tr>\n",
       "<tr>\n",
       "  <th>Prob(Q):</th>                <td>1.00</td> <th>  Prob(JB):          </th>  <td>0.00</td>  \n",
       "</tr>\n",
       "<tr>\n",
       "  <th>Heteroskedasticity (H):</th> <td>0.47</td> <th>  Skew:              </th>  <td>1.18</td>  \n",
       "</tr>\n",
       "<tr>\n",
       "  <th>Prob(H) (two-sided):</th>    <td>0.00</td> <th>  Kurtosis:          </th>  <td>14.54</td> \n",
       "</tr>\n",
       "</table><br/><br/>Warnings:<br/>[1] Covariance matrix calculated using the outer product of gradients (complex-step)."
      ],
      "text/plain": [
       "<class 'statsmodels.iolib.summary.Summary'>\n",
       "\"\"\"\n",
       "                               SARIMAX Results                                \n",
       "==============================================================================\n",
       "Dep. Variable:        Apertura_transf   No. Observations:                  643\n",
       "Model:               SARIMAX(3, 1, 4)   Log Likelihood                -261.814\n",
       "Date:                Tue, 08 Dec 2020   AIC                            539.627\n",
       "Time:                        21:34:55   BIC                            575.344\n",
       "Sample:                    12-02-2007   HQIC                           553.489\n",
       "                         - 03-22-2020                                         \n",
       "Covariance Type:                  opg                                         \n",
       "==============================================================================\n",
       "                 coef    std err          z      P>|z|      [0.025      0.975]\n",
       "------------------------------------------------------------------------------\n",
       "ar.L1          1.1348      0.367      3.092      0.002       0.415       1.854\n",
       "ar.L2         -0.5385      0.504     -1.069      0.285      -1.526       0.449\n",
       "ar.L3          0.0748      0.338      0.221      0.825      -0.587       0.737\n",
       "ma.L1         -1.0163      0.374     -2.714      0.007      -1.750      -0.282\n",
       "ma.L2          0.3518      0.470      0.748      0.454      -0.570       1.273\n",
       "ma.L3         -0.0500      0.265     -0.189      0.850      -0.569       0.469\n",
       "ma.L4          0.1080      0.075      1.448      0.148      -0.038       0.254\n",
       "sigma2         0.1323      0.004     32.057      0.000       0.124       0.140\n",
       "===================================================================================\n",
       "Ljung-Box (L1) (Q):                   0.00   Jarque-Bera (JB):              3711.72\n",
       "Prob(Q):                              1.00   Prob(JB):                         0.00\n",
       "Heteroskedasticity (H):               0.47   Skew:                             1.18\n",
       "Prob(H) (two-sided):                  0.00   Kurtosis:                        14.54\n",
       "===================================================================================\n",
       "\n",
       "Warnings:\n",
       "[1] Covariance matrix calculated using the outer product of gradients (complex-step).\n",
       "\"\"\""
      ]
     },
     "execution_count": 25,
     "metadata": {},
     "output_type": "execute_result"
    }
   ],
   "source": [
    "modeloarima1=smapi.tsa.statespace.SARIMAX(X_train, trend='n', order=[3,1,4])\n",
    "ajustearima = modeloarima1.fit()\n",
    "ajustearima.summary()\n",
    "\n",
    "\n",
    "#modelo_auto= sm.tsa.statespace.sarimax.SARIMAX(simul, trend='n', order=[12,0,0],enforce_stationarity=False)  \n",
    "#with modeloarima.fix_params({'ar.L1': 0.0, 'ar.L9': 0.0, 'ar.L8': 0.0,'ar.L7': 0.0,'ar.L5': 0.0, 'ar.L4': 0.0}):\n",
    "#     ajustearima = modelo_auto.fit()\n",
    "#print(ajustearima.summary())"
   ]
  },
  {
   "cell_type": "code",
   "execution_count": 26,
   "metadata": {},
   "outputs": [
    {
     "name": "stdout",
     "output_type": "stream",
     "text": [
      "                               SARIMAX Results                                \n",
      "==============================================================================\n",
      "Dep. Variable:        Apertura_transf   No. Observations:                  643\n",
      "Model:               SARIMAX(1, 1, 4)   Log Likelihood                -264.250\n",
      "Date:                Tue, 08 Dec 2020   AIC                            540.500\n",
      "Time:                        21:34:59   BIC                            567.287\n",
      "Sample:                    12-02-2007   HQIC                           550.896\n",
      "                         - 03-22-2020                                         \n",
      "Covariance Type:                  opg                                         \n",
      "=================================================================================\n",
      "                    coef    std err          z      P>|z|      [0.025      0.975]\n",
      "---------------------------------------------------------------------------------\n",
      "intercept         0.0006      0.005      0.121      0.904      -0.010       0.011\n",
      "ar.L1             0.7227      0.194      3.731      0.000       0.343       1.102\n",
      "ma.L1            -0.6132      0.206     -2.980      0.003      -1.016      -0.210\n",
      "ma.L2            -0.1542      0.028     -5.572      0.000      -0.208      -0.100\n",
      "ma.L3 (fixed)          0        nan        nan        nan         nan         nan\n",
      "ma.L4             0.1074      0.028      3.785      0.000       0.052       0.163\n",
      "sigma2            0.1333      0.004     32.698      0.000       0.125       0.141\n",
      "===================================================================================\n",
      "Ljung-Box (L1) (Q):                   0.07   Jarque-Bera (JB):              4723.21\n",
      "Prob(Q):                              0.79   Prob(JB):                         0.00\n",
      "Heteroskedasticity (H):               0.46   Skew:                             1.31\n",
      "Prob(H) (two-sided):                  0.00   Kurtosis:                        16.03\n",
      "===================================================================================\n",
      "\n",
      "Warnings:\n",
      "[1] Covariance matrix calculated using the outer product of gradients (complex-step).\n"
     ]
    }
   ],
   "source": [
    "modeloarima1_fixed=smapi.tsa.statespace.SARIMAX(X_train, trend='c', order=[1,1,4], enforce_invertibility=False)\n",
    "with modeloarima1_fixed.fix_params({'ma.L3': 0.0}):\n",
    "     ajustearima_fixed = modeloarima1_fixed.fit()\n",
    "print(ajustearima_fixed.summary())"
   ]
  },
  {
   "cell_type": "code",
   "execution_count": 133,
   "metadata": {},
   "outputs": [
    {
     "data": {
      "image/png": "[encoded data removed]",
      "text/plain": [
       "<Figure size 432x288 with 4 Axes>"
      ]
     },
     "metadata": {
      "needs_background": "light"
     },
     "output_type": "display_data"
    },
    {
     "name": "stdout",
     "output_type": "stream",
     "text": [
      "[[4.55075163e-01 1.34600640e-08]]\n",
      "[[4.72321287e+03 0.00000000e+00 1.31221992e+00 1.60261668e+01]]\n"
     ]
    }
   ],
   "source": [
    "#####Análisis de Residuales######\n",
    "residuales=ajustearima_fixed.resid #Residuales no estandarizados\n",
    "\n",
    "ajustearima_fixed.plot_diagnostics()\n",
    "plt.show()\n",
    "## Hipótesis nula de no heterocedasticidad\n",
    "print(ajustearima_fixed.test_heteroskedasticity(method='breakvar')) #[Est. de prueba, p-valor]\n",
    "## Hipótesis nula de normalidad\n",
    "print(ajustearima_fixed.test_normality(method='jarquebera'))"
   ]
  },
  {
   "cell_type": "code",
   "execution_count": 64,
   "metadata": {},
   "outputs": [
    {
     "data": {
      "text/plain": [
       "Timestamp('2020-03-29 00:00:00', freq='W-SUN')"
      ]
     },
     "execution_count": 64,
     "metadata": {},
     "output_type": "execute_result"
    }
   ],
   "source": [
    "X_test.index[0]"
   ]
  },
  {
   "cell_type": "code",
   "execution_count": 119,
   "metadata": {},
   "outputs": [
    {
     "name": "stdout",
     "output_type": "stream",
     "text": [
      "2020-03-29    26.592214\n",
      "2020-04-05    26.581828\n",
      "2020-04-12    26.605614\n",
      "2020-04-19    26.591318\n",
      "2020-04-26    26.581619\n",
      "2020-05-03    26.575244\n",
      "2020-05-10    26.571269\n",
      "2020-05-17    26.569030\n",
      "2020-05-24    26.568045\n",
      "2020-05-31    26.567966\n",
      "2020-06-07    26.568542\n",
      "2020-06-14    26.569591\n",
      "2020-06-21    26.570983\n",
      "2020-06-28    26.572621\n",
      "2020-07-05    26.574438\n",
      "2020-07-12    26.576385\n",
      "2020-07-19    26.578424\n",
      "2020-07-26    26.580532\n",
      "2020-08-02    26.582687\n",
      "2020-08-09    26.584878\n",
      "2020-08-16    26.587095\n",
      "2020-08-23    26.589330\n",
      "2020-08-30    26.591578\n",
      "2020-09-06    26.593836\n",
      "2020-09-13    26.596100\n",
      "2020-09-20    26.598370\n",
      "2020-09-27    26.600643\n",
      "2020-10-04    26.602919\n",
      "2020-10-11    26.605197\n",
      "2020-10-18    26.607476\n",
      "2020-10-25    26.609757\n",
      "2020-11-01    26.612038\n",
      "2020-11-08    26.614319\n",
      "2020-11-15    26.616601\n",
      "Freq: W-SUN, Name: predicted_mean, dtype: float64\n"
     ]
    }
   ],
   "source": [
    "ECOforecast=ajustearima_fixed.get_forecast(steps=len(X_test))\n",
    "ICforecast95=ECOforecast.conf_int(alpha=0.05)\n",
    "pronosticos=ECOforecast.predicted_mean\n",
    "print(ECOforecast.predicted_mean)"
   ]
  },
  {
   "cell_type": "code",
   "execution_count": 29,
   "metadata": {},
   "outputs": [
    {
     "data": {
      "image/png": "[encoded data removed]",
      "text/plain": [
       "<Figure size 864x576 with 1 Axes>"
      ]
     },
     "metadata": {
      "needs_background": "light"
     },
     "output_type": "display_data"
    }
   ],
   "source": [
    "####Note que son los pronosticos de serie sin volver a la escala original\n",
    "fig = plt.figure(figsize=(12, 8))\n",
    "ax = fig.add_subplot(1,1,1)\n",
    "#Serie actual\n",
    "ax.plot(X_train.astype('float64'), '--', color=\"blue\", label='Serie Pasajeros')\n",
    "# Pronóstico\n",
    "ax.plot(pronosticos, lw=2, color=\"red\", alpha=0.5, label='Pronostico')\n",
    "ax.plot(X_test, lw=2, color=\"orange\", alpha=0.5, label='Reales')\n",
    "#ax.fill_between(pronosticos.index, ICforecast95.iloc[:, 0], ICforecast95.iloc[:, 1], alpha=0.5)\n",
    "ax.legend(loc='upper right')\n",
    "plt.draw()"
   ]
  },
  {
   "cell_type": "code",
   "execution_count": 31,
   "metadata": {},
   "outputs": [],
   "source": [
    "from arch import arch_model\n",
    "\n",
    "from arch.univariate import ARCH"
   ]
  },
  {
   "cell_type": "code",
   "execution_count": 115,
   "metadata": {},
   "outputs": [
    {
     "data": {
      "text/plain": [
       "Fecha\n",
       "2007-12-02    25.019403\n",
       "2007-12-09    -0.591731\n",
       "2007-12-16    -0.247652\n",
       "2007-12-23     0.208891\n",
       "2007-12-30     0.008256\n",
       "                ...    \n",
       "2020-02-23    -0.819292\n",
       "2020-03-01    -0.184802\n",
       "2020-03-08     0.075967\n",
       "2020-03-15     0.285489\n",
       "2020-03-22    -0.299082\n",
       "Freq: W-SUN, Name: None, Length: 643, dtype: float64"
      ]
     },
     "execution_count": 115,
     "metadata": {},
     "output_type": "execute_result"
    }
   ],
   "source": [
    "residuales"
   ]
  },
  {
   "cell_type": "code",
   "execution_count": 149,
   "metadata": {},
   "outputs": [
    {
     "name": "stdout",
     "output_type": "stream",
     "text": [
      "Iteration:      1,   Func. Count:      6,   Neg. LLF: 191258345218413.3\n",
      "Iteration:      2,   Func. Count:     16,   Neg. LLF: 324217235.4324844\n",
      "Iteration:      3,   Func. Count:     22,   Neg. LLF: 296693647.94906104\n",
      "Iteration:      4,   Func. Count:     28,   Neg. LLF: 261.7833228308663\n",
      "Iteration:      5,   Func. Count:     34,   Neg. LLF: 244.58885994630742\n",
      "Iteration:      6,   Func. Count:     40,   Neg. LLF: 435.23600392649666\n",
      "Iteration:      7,   Func. Count:     46,   Neg. LLF: 358.55733850707054\n",
      "Iteration:      8,   Func. Count:     52,   Neg. LLF: 373.1249204739875\n",
      "Iteration:      9,   Func. Count:     58,   Neg. LLF: 275.99448477870226\n",
      "Iteration:     10,   Func. Count:     64,   Neg. LLF: 413.09510586367367\n",
      "Iteration:     11,   Func. Count:     70,   Neg. LLF: 216.06140630734396\n",
      "Iteration:     12,   Func. Count:     75,   Neg. LLF: 215.88600796897632\n",
      "Iteration:     13,   Func. Count:     80,   Neg. LLF: 215.88114102388053\n",
      "Iteration:     14,   Func. Count:     85,   Neg. LLF: 215.8804916951869\n",
      "Iteration:     15,   Func. Count:     90,   Neg. LLF: 215.8802541676544\n",
      "Iteration:     16,   Func. Count:     95,   Neg. LLF: 215.88024616323125\n",
      "Iteration:     17,   Func. Count:     99,   Neg. LLF: 215.88024616319603\n",
      "Optimization terminated successfully    (Exit mode 0)\n",
      "            Current function value: 215.88024616323125\n",
      "            Iterations: 17\n",
      "            Function evaluations: 99\n",
      "            Gradient evaluations: 17\n"
     ]
    },
    {
     "data": {
      "text/html": [
       "<table class=\"simpletable\">\n",
       "<caption>Constant Mean - GARCH Model Results</caption>\n",
       "<tr>\n",
       "  <th>Dep. Variable:</th>        <td>None</td>        <th>  R-squared:         </th>  <td>  -0.003</td> \n",
       "</tr>\n",
       "<tr>\n",
       "  <th>Mean Model:</th>       <td>Constant Mean</td>   <th>  Adj. R-squared:    </th>  <td>  -0.003</td> \n",
       "</tr>\n",
       "<tr>\n",
       "  <th>Vol Model:</th>            <td>GARCH</td>       <th>  Log-Likelihood:    </th> <td>  -215.880</td>\n",
       "</tr>\n",
       "<tr>\n",
       "  <th>Distribution:</th>        <td>Normal</td>       <th>  AIC:               </th> <td>   439.760</td>\n",
       "</tr>\n",
       "<tr>\n",
       "  <th>Method:</th>        <td>Maximum Likelihood</td> <th>  BIC:               </th> <td>   457.625</td>\n",
       "</tr>\n",
       "<tr>\n",
       "  <th></th>                        <td></td>          <th>  No. Observations:  </th>     <td>643</td>   \n",
       "</tr>\n",
       "<tr>\n",
       "  <th>Date:</th>           <td>Tue, Dec 08 2020</td>  <th>  Df Residuals:      </th>     <td>639</td>   \n",
       "</tr>\n",
       "<tr>\n",
       "  <th>Time:</th>               <td>23:08:27</td>      <th>  Df Model:          </th>      <td>4</td>    \n",
       "</tr>\n",
       "</table>\n",
       "<table class=\"simpletable\">\n",
       "<caption>Mean Model</caption>\n",
       "<tr>\n",
       "   <td></td>     <th>coef</th>     <th>std err</th>      <th>t</th>       <th>P>|t|</th>      <th>95.0% Conf. Int.</th>   \n",
       "</tr>\n",
       "<tr>\n",
       "  <th>mu</th> <td>   -0.0212</td> <td>1.257e-02</td> <td>   -1.684</td> <td>9.213e-02</td> <td>[-4.582e-02,3.467e-03]</td>\n",
       "</tr>\n",
       "</table>\n",
       "<table class=\"simpletable\">\n",
       "<caption>Volatility Model</caption>\n",
       "<tr>\n",
       "      <td></td>        <th>coef</th>     <th>std err</th>      <th>t</th>       <th>P>|t|</th>     <th>95.0% Conf. Int.</th>   \n",
       "</tr>\n",
       "<tr>\n",
       "  <th>omega</th>    <td>    0.0390</td> <td>1.083e-02</td> <td>    3.605</td> <td>3.121e-04</td> <td>[1.782e-02,6.027e-02]</td>\n",
       "</tr>\n",
       "<tr>\n",
       "  <th>alpha[1]</th> <td>    0.4177</td> <td>    0.151</td> <td>    2.771</td> <td>5.587e-03</td>   <td>[  0.122,  0.713]</td>  \n",
       "</tr>\n",
       "<tr>\n",
       "  <th>beta[1]</th>  <td>    0.3270</td> <td>    0.101</td> <td>    3.230</td> <td>1.239e-03</td>   <td>[  0.129,  0.526]</td>  \n",
       "</tr>\n",
       "</table><br/><br/>Covariance estimator: robust"
      ],
      "text/plain": [
       "<class 'statsmodels.iolib.summary.Summary'>\n",
       "\"\"\"\n",
       "                     Constant Mean - GARCH Model Results                      \n",
       "==============================================================================\n",
       "Dep. Variable:                   None   R-squared:                      -0.003\n",
       "Mean Model:             Constant Mean   Adj. R-squared:                 -0.003\n",
       "Vol Model:                      GARCH   Log-Likelihood:               -215.880\n",
       "Distribution:                  Normal   AIC:                           439.760\n",
       "Method:            Maximum Likelihood   BIC:                           457.625\n",
       "                                        No. Observations:                  643\n",
       "Date:                Tue, Dec 08 2020   Df Residuals:                      639\n",
       "Time:                        23:08:27   Df Model:                            4\n",
       "                                  Mean Model                                 \n",
       "=============================================================================\n",
       "                 coef    std err          t      P>|t|       95.0% Conf. Int.\n",
       "-----------------------------------------------------------------------------\n",
       "mu            -0.0212  1.257e-02     -1.684  9.213e-02 [-4.582e-02,3.467e-03]\n",
       "                              Volatility Model                              \n",
       "============================================================================\n",
       "                 coef    std err          t      P>|t|      95.0% Conf. Int.\n",
       "----------------------------------------------------------------------------\n",
       "omega          0.0390  1.083e-02      3.605  3.121e-04 [1.782e-02,6.027e-02]\n",
       "alpha[1]       0.4177      0.151      2.771  5.587e-03     [  0.122,  0.713]\n",
       "beta[1]        0.3270      0.101      3.230  1.239e-03     [  0.129,  0.526]\n",
       "============================================================================\n",
       "\n",
       "Covariance estimator: robust\n",
       "\"\"\""
      ]
     },
     "execution_count": 149,
     "metadata": {},
     "output_type": "execute_result"
    }
   ],
   "source": [
    "modelo_arch=arch_model(residuales, vol=\"GARCH\")\n",
    "ajustearch=modelo_arch.fit()\n",
    "\n",
    "ajustearch.summary()"
   ]
  },
  {
   "cell_type": "code",
   "execution_count": null,
   "metadata": {},
   "outputs": [],
   "source": []
  },
  {
   "cell_type": "code",
   "execution_count": 150,
   "metadata": {},
   "outputs": [],
   "source": [
    "arch_forecast =ajustearch.forecast(horizon=len(X_test))\n",
    "err_pronosticos=arch_forecast.mean.values[-1, :]"
   ]
  },
  {
   "cell_type": "code",
   "execution_count": 151,
   "metadata": {},
   "outputs": [],
   "source": [
    "pronosticos_finales=pronosticos+err_pronosticos"
   ]
  },
  {
   "cell_type": "code",
   "execution_count": 152,
   "metadata": {},
   "outputs": [
    {
     "data": {
      "image/png": "[encoded data removed]",
      "text/plain": [
       "<Figure size 864x576 with 1 Axes>"
      ]
     },
     "metadata": {
      "needs_background": "light"
     },
     "output_type": "display_data"
    }
   ],
   "source": [
    "fig = plt.figure(figsize=(12, 8))\n",
    "ax = fig.add_subplot(1,1,1)\n",
    "#Serie actual\n",
    "ax.plot(X_train, '--', color=\"blue\", label='Volatilidad')\n",
    "# Pronóstico\n",
    "ax.plot(pronosticos_finales, lw=2, color=\"red\", alpha=0.5, label='Pronostico')\n",
    "ax.plot(X_test, lw=2, color=\"orange\", alpha=0.5, label='Reales')\n",
    "#ax.fill_between(pronosticos.index, ICforecast95.iloc[:, 0], ICforecast95.iloc[:, 1], alpha=0.5)\n",
    "ax.legend(loc='upper right')\n",
    "plt.draw()"
   ]
  },
  {
   "cell_type": "code",
   "execution_count": null,
   "metadata": {},
   "outputs": [],
   "source": []
  }
 ],
 "metadata": {
  "colab": {
   "collapsed_sections": [],
   "name": "Acciones de Ecopetrol.ipynb",
   "provenance": []
  },
  "kernelspec": {
   "display_name": "Python 3",
   "language": "python",
   "name": "python3"
  },
  "language_info": {
   "codemirror_mode": {
    "name": "ipython",
    "version": 3
   },
   "file_extension": ".py",
   "mimetype": "text/x-python",
   "name": "python",
   "nbconvert_exporter": "python",
   "pygments_lexer": "ipython3",
   "version": "3.7.7"
  }
 },
 "nbformat": 4,
 "nbformat_minor": 4
}
